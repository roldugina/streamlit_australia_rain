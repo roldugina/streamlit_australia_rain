{
 "cells": [
  {
   "cell_type": "markdown",
   "id": "9eaa0f4c-604d-4f31-8d59-fb6935708de4",
   "metadata": {},
   "source": [
    "## Building a Web Application with Streamlit for Predicting Rain in Australia\n",
    "\n",
    "This project focuses on building a web application that predicts whether rainfall will occur in a given region of Australia, with the goal of demonstrating the complete machine learning pipeline, from data preprocessing to prediction based on the entered data, and deploying the trained model using the Streamlit library.\n",
    "\n",
    "In this part of the project, data loading, initial analysis, data preprocessing are performed.\n",
    "Experiments with classification models are conducted to identify the most suitable model for the task at hand.\n",
    "\n",
    "**Project Steps:**\n",
    "\n",
    "1. Perform basic dataset EDA to identify an approach for data preprocessing, model and metric selection\n",
    "1. Preprocess data.\n",
    "1. Build models, tune hyperparameters.\n",
    "1. Compare the models' results.\n",
    "1. Save the best model for future usage in web application.\n",
    "1. Build a web application for rain prediction.\n",
    "1. Deploy the application.  \n",
    "\n",
    "**Dataset:**\n",
    "The Kaggle dataset comprises about 10 years of daily weather observations from numerous locations across Australia. \n",
    "You can download it here: \n",
    "\n",
    "https://www.kaggle.com/datasets/jsphyg/weather-dataset-rattle-package\n",
    "\n",
    "**Project overview:**\n",
    "\n",
    "The task is a **binary classification** problem, with **imbalanced classes** (one class is **3.46** times more frequent than the other). The dataset is heterogeneous, consisting of 16 numerical and 5 categorical features.\n",
    "\n",
    "For the metrics in the rain prediction task, I have chosen **F1-Score** and **recall** to prioritize minimizing false negatives. I consider it more critical to avoid missing instances of rain, as this could lead to significant costs."
   ]
  },
  {
   "cell_type": "code",
   "execution_count": 1,
   "id": "39b1bf2c-7829-4898-93f5-8fb11e42fc85",
   "metadata": {},
   "outputs": [
    {
     "name": "stderr",
     "output_type": "stream",
     "text": [
      "\n",
      "[notice] A new release of pip is available: 24.2 -> 24.3.1\n",
      "[notice] To update, run: python.exe -m pip install --upgrade pip\n"
     ]
    }
   ],
   "source": [
    "!pip install seaborn --quiet"
   ]
  },
  {
   "cell_type": "markdown",
   "id": "7c51ba0b-2595-40fe-b450-de1f44875d5a",
   "metadata": {},
   "source": [
    "### 1. Import Libraries, Define Functions"
   ]
  },
  {
   "cell_type": "code",
   "execution_count": 2,
   "id": "9f23e055-9dcf-44d3-9894-ec71b901cedd",
   "metadata": {},
   "outputs": [],
   "source": [
    "# Data manipulation\n",
    "import pandas as pd\n",
    "import numpy as np\n",
    "\n",
    "# Data preprocessing and resampling\n",
    "from sklearn.impute import SimpleImputer\n",
    "from imblearn.over_sampling import RandomOverSampler, ADASYN\n",
    "from imblearn.under_sampling import RandomUnderSampler\n",
    "\n",
    "# Model selection and hyperparameter tuning\n",
    "from sklearn.model_selection import train_test_split, GridSearchCV\n",
    "from hyperopt import fmin, tpe, hp, STATUS_OK, Trials\n",
    "\n",
    "# Models\n",
    "from sklearn.ensemble import RandomForestClassifier\n",
    "from sklearn.linear_model import LogisticRegression\n",
    "from xgboost import XGBClassifier\n",
    "\n",
    "# Evaluation metrics\n",
    "from sklearn.metrics import (\n",
    "    accuracy_score, classification_report, roc_auc_score, \n",
    "    roc_curve, auc, log_loss, precision_score, recall_score, \n",
    "    f1_score, confusion_matrix\n",
    ")\n",
    "\n",
    "# Saving and loading models\n",
    "import joblib\n",
    "\n",
    "# Visualization\n",
    "import matplotlib.pyplot as plt\n",
    "import seaborn as sns\n",
    "\n",
    "# Custom modules\n",
    "from load_and_preprocess import load_model_components, preprocess_data"
   ]
  },
  {
   "cell_type": "code",
   "execution_count": 3,
   "id": "7f106d54-6230-4839-884f-b3fe2b5d3b9a",
   "metadata": {},
   "outputs": [],
   "source": [
    "# Define predict and display metrics function\n",
    "def predict_and_metrics(model, X, y, str):\n",
    "    pred = model.predict(X)\n",
    "    proba = model.predict_proba(X)[:,1]\n",
    "    delimiter = '-------------------------------------\\n'\n",
    "    if str == 'Train':\n",
    "        print(delimiter,type(model).__name__)\n",
    "    print(f'{delimiter}Classification report for {str} set')\n",
    "    print(classification_report(y, pred, digits=4))\n",
    "    auroc = roc_auc_score(y, proba)\n",
    "    precision = precision_score(y, pred)\n",
    "    recall = recall_score (y, pred)\n",
    "    f1 = f1_score(y, pred)\n",
    "    print(f'AUROC for {str} set: {auroc:.6f}')\n",
    "    return {'pred': pred, 'proba': proba, 'auroc': auroc, 'precision': precision, 'recall': recall, 'f1': f1} "
   ]
  },
  {
   "cell_type": "code",
   "execution_count": 69,
   "id": "98c4c7b3-17d8-4536-a182-b02ae279180c",
   "metadata": {},
   "outputs": [],
   "source": [
    "def update_results(results, metrics, str):\n",
    "    \n",
    "    results.loc[len(results)+1] = [\n",
    "    str, \n",
    "    metrics['auroc'], \n",
    "    metrics['precision'], \n",
    "    metrics['recall'], \n",
    "    metrics['f1']\n",
    "    ]\n",
    "    return results"
   ]
  },
  {
   "cell_type": "markdown",
   "id": "24af66d9-b5bc-4831-bedf-02d76143eb69",
   "metadata": {},
   "source": [
    "### 2. Data Loading and Basic EDA"
   ]
  },
  {
   "cell_type": "code",
   "execution_count": 5,
   "id": "4aa44570-62d3-4a5c-8f32-aeba480f0abe",
   "metadata": {},
   "outputs": [],
   "source": [
    "# Load dataset\n",
    "raw_df = pd.read_csv('data/weatherAUS.csv')"
   ]
  },
  {
   "cell_type": "markdown",
   "id": "17296150-82e3-4806-b81d-40dd42d3fc4c",
   "metadata": {},
   "source": [
    "#### 2.1. General Overview"
   ]
  },
  {
   "cell_type": "code",
   "execution_count": 6,
   "id": "ef6e8e9d-508e-488e-a76a-7bfaecd80b49",
   "metadata": {},
   "outputs": [
    {
     "data": {
      "text/html": [
       "<div>\n",
       "<style scoped>\n",
       "    .dataframe tbody tr th:only-of-type {\n",
       "        vertical-align: middle;\n",
       "    }\n",
       "\n",
       "    .dataframe tbody tr th {\n",
       "        vertical-align: top;\n",
       "    }\n",
       "\n",
       "    .dataframe thead th {\n",
       "        text-align: right;\n",
       "    }\n",
       "</style>\n",
       "<table border=\"1\" class=\"dataframe\">\n",
       "  <thead>\n",
       "    <tr style=\"text-align: right;\">\n",
       "      <th></th>\n",
       "      <th>Date</th>\n",
       "      <th>Location</th>\n",
       "      <th>MinTemp</th>\n",
       "      <th>MaxTemp</th>\n",
       "      <th>Rainfall</th>\n",
       "      <th>Evaporation</th>\n",
       "      <th>Sunshine</th>\n",
       "      <th>WindGustDir</th>\n",
       "      <th>WindGustSpeed</th>\n",
       "      <th>WindDir9am</th>\n",
       "      <th>...</th>\n",
       "      <th>Humidity9am</th>\n",
       "      <th>Humidity3pm</th>\n",
       "      <th>Pressure9am</th>\n",
       "      <th>Pressure3pm</th>\n",
       "      <th>Cloud9am</th>\n",
       "      <th>Cloud3pm</th>\n",
       "      <th>Temp9am</th>\n",
       "      <th>Temp3pm</th>\n",
       "      <th>RainToday</th>\n",
       "      <th>RainTomorrow</th>\n",
       "    </tr>\n",
       "  </thead>\n",
       "  <tbody>\n",
       "    <tr>\n",
       "      <th>0</th>\n",
       "      <td>2008-12-01</td>\n",
       "      <td>Albury</td>\n",
       "      <td>13.4</td>\n",
       "      <td>22.9</td>\n",
       "      <td>0.6</td>\n",
       "      <td>NaN</td>\n",
       "      <td>NaN</td>\n",
       "      <td>W</td>\n",
       "      <td>44.0</td>\n",
       "      <td>W</td>\n",
       "      <td>...</td>\n",
       "      <td>71.0</td>\n",
       "      <td>22.0</td>\n",
       "      <td>1007.7</td>\n",
       "      <td>1007.1</td>\n",
       "      <td>8.0</td>\n",
       "      <td>NaN</td>\n",
       "      <td>16.9</td>\n",
       "      <td>21.8</td>\n",
       "      <td>No</td>\n",
       "      <td>No</td>\n",
       "    </tr>\n",
       "    <tr>\n",
       "      <th>1</th>\n",
       "      <td>2008-12-02</td>\n",
       "      <td>Albury</td>\n",
       "      <td>7.4</td>\n",
       "      <td>25.1</td>\n",
       "      <td>0.0</td>\n",
       "      <td>NaN</td>\n",
       "      <td>NaN</td>\n",
       "      <td>WNW</td>\n",
       "      <td>44.0</td>\n",
       "      <td>NNW</td>\n",
       "      <td>...</td>\n",
       "      <td>44.0</td>\n",
       "      <td>25.0</td>\n",
       "      <td>1010.6</td>\n",
       "      <td>1007.8</td>\n",
       "      <td>NaN</td>\n",
       "      <td>NaN</td>\n",
       "      <td>17.2</td>\n",
       "      <td>24.3</td>\n",
       "      <td>No</td>\n",
       "      <td>No</td>\n",
       "    </tr>\n",
       "    <tr>\n",
       "      <th>2</th>\n",
       "      <td>2008-12-03</td>\n",
       "      <td>Albury</td>\n",
       "      <td>12.9</td>\n",
       "      <td>25.7</td>\n",
       "      <td>0.0</td>\n",
       "      <td>NaN</td>\n",
       "      <td>NaN</td>\n",
       "      <td>WSW</td>\n",
       "      <td>46.0</td>\n",
       "      <td>W</td>\n",
       "      <td>...</td>\n",
       "      <td>38.0</td>\n",
       "      <td>30.0</td>\n",
       "      <td>1007.6</td>\n",
       "      <td>1008.7</td>\n",
       "      <td>NaN</td>\n",
       "      <td>2.0</td>\n",
       "      <td>21.0</td>\n",
       "      <td>23.2</td>\n",
       "      <td>No</td>\n",
       "      <td>No</td>\n",
       "    </tr>\n",
       "    <tr>\n",
       "      <th>3</th>\n",
       "      <td>2008-12-04</td>\n",
       "      <td>Albury</td>\n",
       "      <td>9.2</td>\n",
       "      <td>28.0</td>\n",
       "      <td>0.0</td>\n",
       "      <td>NaN</td>\n",
       "      <td>NaN</td>\n",
       "      <td>NE</td>\n",
       "      <td>24.0</td>\n",
       "      <td>SE</td>\n",
       "      <td>...</td>\n",
       "      <td>45.0</td>\n",
       "      <td>16.0</td>\n",
       "      <td>1017.6</td>\n",
       "      <td>1012.8</td>\n",
       "      <td>NaN</td>\n",
       "      <td>NaN</td>\n",
       "      <td>18.1</td>\n",
       "      <td>26.5</td>\n",
       "      <td>No</td>\n",
       "      <td>No</td>\n",
       "    </tr>\n",
       "    <tr>\n",
       "      <th>4</th>\n",
       "      <td>2008-12-05</td>\n",
       "      <td>Albury</td>\n",
       "      <td>17.5</td>\n",
       "      <td>32.3</td>\n",
       "      <td>1.0</td>\n",
       "      <td>NaN</td>\n",
       "      <td>NaN</td>\n",
       "      <td>W</td>\n",
       "      <td>41.0</td>\n",
       "      <td>ENE</td>\n",
       "      <td>...</td>\n",
       "      <td>82.0</td>\n",
       "      <td>33.0</td>\n",
       "      <td>1010.8</td>\n",
       "      <td>1006.0</td>\n",
       "      <td>7.0</td>\n",
       "      <td>8.0</td>\n",
       "      <td>17.8</td>\n",
       "      <td>29.7</td>\n",
       "      <td>No</td>\n",
       "      <td>No</td>\n",
       "    </tr>\n",
       "  </tbody>\n",
       "</table>\n",
       "<p>5 rows × 23 columns</p>\n",
       "</div>"
      ],
      "text/plain": [
       "         Date Location  MinTemp  MaxTemp  Rainfall  Evaporation  Sunshine  \\\n",
       "0  2008-12-01   Albury     13.4     22.9       0.6          NaN       NaN   \n",
       "1  2008-12-02   Albury      7.4     25.1       0.0          NaN       NaN   \n",
       "2  2008-12-03   Albury     12.9     25.7       0.0          NaN       NaN   \n",
       "3  2008-12-04   Albury      9.2     28.0       0.0          NaN       NaN   \n",
       "4  2008-12-05   Albury     17.5     32.3       1.0          NaN       NaN   \n",
       "\n",
       "  WindGustDir  WindGustSpeed WindDir9am  ... Humidity9am  Humidity3pm  \\\n",
       "0           W           44.0          W  ...        71.0         22.0   \n",
       "1         WNW           44.0        NNW  ...        44.0         25.0   \n",
       "2         WSW           46.0          W  ...        38.0         30.0   \n",
       "3          NE           24.0         SE  ...        45.0         16.0   \n",
       "4           W           41.0        ENE  ...        82.0         33.0   \n",
       "\n",
       "   Pressure9am  Pressure3pm  Cloud9am  Cloud3pm  Temp9am  Temp3pm  RainToday  \\\n",
       "0       1007.7       1007.1       8.0       NaN     16.9     21.8         No   \n",
       "1       1010.6       1007.8       NaN       NaN     17.2     24.3         No   \n",
       "2       1007.6       1008.7       NaN       2.0     21.0     23.2         No   \n",
       "3       1017.6       1012.8       NaN       NaN     18.1     26.5         No   \n",
       "4       1010.8       1006.0       7.0       8.0     17.8     29.7         No   \n",
       "\n",
       "   RainTomorrow  \n",
       "0            No  \n",
       "1            No  \n",
       "2            No  \n",
       "3            No  \n",
       "4            No  \n",
       "\n",
       "[5 rows x 23 columns]"
      ]
     },
     "execution_count": 6,
     "metadata": {},
     "output_type": "execute_result"
    }
   ],
   "source": [
    "raw_df.head()"
   ]
  },
  {
   "cell_type": "code",
   "execution_count": 7,
   "id": "0888e171-4258-4407-9182-70fd46237903",
   "metadata": {},
   "outputs": [
    {
     "name": "stdout",
     "output_type": "stream",
     "text": [
      "<class 'pandas.core.frame.DataFrame'>\n",
      "RangeIndex: 145460 entries, 0 to 145459\n",
      "Data columns (total 23 columns):\n",
      " #   Column         Non-Null Count   Dtype  \n",
      "---  ------         --------------   -----  \n",
      " 0   Date           145460 non-null  object \n",
      " 1   Location       145460 non-null  object \n",
      " 2   MinTemp        143975 non-null  float64\n",
      " 3   MaxTemp        144199 non-null  float64\n",
      " 4   Rainfall       142199 non-null  float64\n",
      " 5   Evaporation    82670 non-null   float64\n",
      " 6   Sunshine       75625 non-null   float64\n",
      " 7   WindGustDir    135134 non-null  object \n",
      " 8   WindGustSpeed  135197 non-null  float64\n",
      " 9   WindDir9am     134894 non-null  object \n",
      " 10  WindDir3pm     141232 non-null  object \n",
      " 11  WindSpeed9am   143693 non-null  float64\n",
      " 12  WindSpeed3pm   142398 non-null  float64\n",
      " 13  Humidity9am    142806 non-null  float64\n",
      " 14  Humidity3pm    140953 non-null  float64\n",
      " 15  Pressure9am    130395 non-null  float64\n",
      " 16  Pressure3pm    130432 non-null  float64\n",
      " 17  Cloud9am       89572 non-null   float64\n",
      " 18  Cloud3pm       86102 non-null   float64\n",
      " 19  Temp9am        143693 non-null  float64\n",
      " 20  Temp3pm        141851 non-null  float64\n",
      " 21  RainToday      142199 non-null  object \n",
      " 22  RainTomorrow   142193 non-null  object \n",
      "dtypes: float64(16), object(7)\n",
      "memory usage: 25.5+ MB\n"
     ]
    }
   ],
   "source": [
    "# Check general dataset information\n",
    "raw_df.info()"
   ]
  },
  {
   "cell_type": "code",
   "execution_count": 8,
   "id": "fb4df7a0-7f9b-446f-8b08-d795d31c01d0",
   "metadata": {},
   "outputs": [],
   "source": [
    "numeric_cols = raw_df.select_dtypes(include = np.number).columns.tolist()\n",
    "categorical_cols = raw_df.select_dtypes(include = 'object').columns.tolist()"
   ]
  },
  {
   "cell_type": "markdown",
   "id": "e81c0e89-906a-42c6-8688-93547c553060",
   "metadata": {},
   "source": [
    "We can see that dataset has 22 features including 16 numeric and 5 categorical (we will not consider the `Date` column in the prediction). Some values in the dataset are missing. Let's examine the quantity of missing data in the dataset."
   ]
  },
  {
   "cell_type": "markdown",
   "id": "3b4fcf12-4e4e-4d51-a255-bda85e0c518e",
   "metadata": {},
   "source": [
    "#### 2.2. Missing Values"
   ]
  },
  {
   "cell_type": "code",
   "execution_count": 9,
   "id": "b51ae6a5-eee6-44f7-9303-a2f8a9de6eda",
   "metadata": {},
   "outputs": [
    {
     "data": {
      "text/plain": [
       "Date              0.00%\n",
       "Location          0.00%\n",
       "MinTemp           1.02%\n",
       "MaxTemp           0.87%\n",
       "Rainfall          2.24%\n",
       "Evaporation      43.17%\n",
       "Sunshine         48.01%\n",
       "WindGustDir       7.10%\n",
       "WindGustSpeed     7.06%\n",
       "WindDir9am        7.26%\n",
       "WindDir3pm        2.91%\n",
       "WindSpeed9am      1.21%\n",
       "WindSpeed3pm      2.11%\n",
       "Humidity9am       1.82%\n",
       "Humidity3pm       3.10%\n",
       "Pressure9am      10.36%\n",
       "Pressure3pm      10.33%\n",
       "Cloud9am         38.42%\n",
       "Cloud3pm         40.81%\n",
       "Temp9am           1.21%\n",
       "Temp3pm           2.48%\n",
       "RainToday         2.24%\n",
       "RainTomorrow      2.25%\n",
       "dtype: object"
      ]
     },
     "execution_count": 9,
     "metadata": {},
     "output_type": "execute_result"
    }
   ],
   "source": [
    "# Check train dataset for null values\n",
    "raw_df.isna().sum().apply(lambda x: format(x/raw_df.shape[0],'.2%'))"
   ]
  },
  {
   "cell_type": "markdown",
   "id": "56ad809d-2e00-49d4-863a-c4780c2bb781",
   "metadata": {},
   "source": [
    "We'll use the following approach for **handling missing values**:\n",
    "\n",
    "1. Rows with missing values in the `RainToday` and `RainTomorrow` columns will be removed, as these are closely related to the target variable.\n",
    "1. Missing values in numeric and categorical columns will be imputed using `SimpleImputer`\n",
    "\n",
    "It is important to impute missing values because the `Random Forest` model does not accept datasets with missing values. It will be done at preprocessing stage."
   ]
  },
  {
   "cell_type": "code",
   "execution_count": 10,
   "id": "718a4f39-d7aa-456f-ba91-b1f89604f875",
   "metadata": {},
   "outputs": [],
   "source": [
    "raw_df.dropna(subset=['RainToday', 'RainTomorrow'], inplace=True)"
   ]
  },
  {
   "cell_type": "markdown",
   "id": "8f6c3bf4-b319-4554-93e1-4d408ed6b2fb",
   "metadata": {},
   "source": [
    "#### 2.3. Class Balance"
   ]
  },
  {
   "cell_type": "markdown",
   "id": "64e3f558-2fe7-4439-932c-dd7cd0ba8adb",
   "metadata": {},
   "source": [
    "Now let's check if the dataset is balanced."
   ]
  },
  {
   "cell_type": "code",
   "execution_count": 11,
   "id": "90da33e5-29f2-490d-b8c4-b68efd848061",
   "metadata": {},
   "outputs": [
    {
     "data": {
      "text/plain": [
       "RainTomorrow\n",
       "No     109586\n",
       "Yes     31201\n",
       "Name: count, dtype: int64"
      ]
     },
     "execution_count": 11,
     "metadata": {},
     "output_type": "execute_result"
    }
   ],
   "source": [
    "raw_df.RainTomorrow.value_counts()"
   ]
  },
  {
   "cell_type": "code",
   "execution_count": 12,
   "id": "67b1bb1c-7dcc-4bf5-be2c-f37fc94dceb5",
   "metadata": {},
   "outputs": [
    {
     "name": "stdout",
     "output_type": "stream",
     "text": [
      "Class \"No exceeds class \"Yes\" by 3.51 times\n"
     ]
    }
   ],
   "source": [
    "class_imbalance = round(raw_df.RainTomorrow.value_counts()[0]/raw_df.RainTomorrow.value_counts()[1],2)\n",
    "print(f'Class \"No exceeds class \"Yes\" by {class_imbalance} times')"
   ]
  },
  {
   "cell_type": "markdown",
   "id": "f8152eff-de18-4fcf-bd33-822700af95a4",
   "metadata": {},
   "source": [
    "The dataset is imbalanced, with the `Yes` class significantly exceeding the `No` class. \n",
    "We will take class imbalance into account during model training."
   ]
  },
  {
   "cell_type": "markdown",
   "id": "fe858532-ab6c-4f88-97ce-85e4a6b6310e",
   "metadata": {},
   "source": [
    "#### 2.4. Correlation Analysis"
   ]
  },
  {
   "cell_type": "code",
   "execution_count": 13,
   "id": "34a61760-07dd-4f36-afdb-ae8881f9823c",
   "metadata": {},
   "outputs": [
    {
     "data": {
      "text/plain": [
       "RainTomorrow\n",
       "0    109586\n",
       "1     31201\n",
       "Name: count, dtype: int64"
      ]
     },
     "execution_count": 13,
     "metadata": {},
     "output_type": "execute_result"
    }
   ],
   "source": [
    "raw_df['RainTomorrow'] = raw_df['RainTomorrow'].apply(lambda x: 1 if x == 'Yes' else 0)\n",
    "raw_df['RainTomorrow'].value_counts()"
   ]
  },
  {
   "cell_type": "code",
   "execution_count": 14,
   "id": "6991d733-a72a-4837-b94f-b9a9cb0793b7",
   "metadata": {},
   "outputs": [
    {
     "data": {
      "image/png": "[encoded data removed]",
      "text/plain": [
       "<Figure size 1000x800 with 2 Axes>"
      ]
     },
     "metadata": {},
     "output_type": "display_data"
    }
   ],
   "source": [
    "# Build correlation matrix\n",
    "n = len(numeric_cols) \n",
    "mask = np.triu(np.ones(n))\n",
    "corr_features = numeric_cols\n",
    "corr_matrix = raw_df[corr_features].corr()\n",
    "\n",
    "plt.figure(figsize=(10, 8))\n",
    "sns.heatmap(corr_matrix, annot=True, cmap=\"viridis\", fmt=\".2f\", linewidths=0.5, mask = mask)\n",
    "plt.title(\"Correlation Heatmap\")\n",
    "plt.show()"
   ]
  },
  {
   "cell_type": "markdown",
   "id": "b55e3623-f5b9-4ed7-9f58-37b9bc84923b",
   "metadata": {},
   "source": [
    "Variables that have most significant effect on target column: `Rainfall`, `Sunshine`, `WindGustSpeed`, `Humidity9am`, `Humidity3pm`, `Pressure9am`, `Pressure3pm`, `Cloud9am`, `Cloud9pm`."
   ]
  },
  {
   "cell_type": "markdown",
   "id": "7e894b4f-3aaa-4c89-ba57-d72fa23f192a",
   "metadata": {},
   "source": [
    "#### 2.5. Chronological Distribution"
   ]
  },
  {
   "cell_type": "markdown",
   "id": "46771522-5dc5-46cf-bb3e-fc51e2c150c1",
   "metadata": {},
   "source": [
    "Let's see how the data is distributed across the years."
   ]
  },
  {
   "cell_type": "code",
   "execution_count": 15,
   "id": "729a278d-db11-41e3-8baf-b8498abd7393",
   "metadata": {},
   "outputs": [
    {
     "data": {
      "text/plain": [
       "Date\n",
       "2007       61\n",
       "2008     2229\n",
       "2009    16514\n",
       "2010    16191\n",
       "2011    14983\n",
       "2012    14894\n",
       "2013    15935\n",
       "2014    17181\n",
       "2015    17089\n",
       "2016    17341\n",
       "2017     8369\n",
       "Name: count, dtype: int64"
      ]
     },
     "execution_count": 15,
     "metadata": {},
     "output_type": "execute_result"
    }
   ],
   "source": [
    "pd.to_datetime(raw_df['Date']).dt.year.value_counts().sort_index()"
   ]
  },
  {
   "cell_type": "markdown",
   "id": "927f23de-7a57-4ff5-806c-9b3d480f7b26",
   "metadata": {},
   "source": [
    "The data is chronological in nature, so we will split it into training, validation, and test sets in chronological order as well:\n",
    "1. before 2015 - train set,\n",
    "2. 2015 - validation set,\n",
    "3. 2016-2017 - test set."
   ]
  },
  {
   "cell_type": "markdown",
   "id": "cd807af1-7005-45e2-b834-5774b65d5a3c",
   "metadata": {},
   "source": [
    "#### 2.6. Metric Selection"
   ]
  },
  {
   "cell_type": "markdown",
   "id": "e871c0c1-511c-4317-af28-24d5a5dbc156",
   "metadata": {},
   "source": [
    "For the primary metric in the rain prediction task, I have chosen **F1-Score** as it provides a good balance between precision and recall. However, I consider it more critical to avoid missing instances of rain, as this could lead to significant costs. Therefore, **recall** will be used as the secondary metric to prioritize minimizing false negatives."
   ]
  },
  {
   "cell_type": "markdown",
   "id": "95793e74-4125-4ce6-a18c-d63de13b4415",
   "metadata": {},
   "source": [
    "### Conclusions\n",
    "\n",
    "1. The task is a **binary classification** problem, with **imbalanced classes** (one class is **3.46** times more frequent than the other). The dataset is heterogeneous, consisting of 16 numerical and 5 categorical features.\n",
    "\n",
    "2. Given these characteristics, we will use `Random Forest` and `XGBoost` models for the prediction. These models are well-suited for heterogeneous data  deliver high accuracy. Additionally,`XGBoost` is particularly effective in handling missing values.`Logistic Regression` will serve as the **baseline** model.\n",
    "\n",
    "3. For the metrics in the rain prediction task, I have chosen **F1-Score** and **recall** to prioritize minimizing false negatives."
   ]
  },
  {
   "cell_type": "markdown",
   "id": "6e96e63b-6aa5-4a6b-8633-37fb0b9c3d02",
   "metadata": {},
   "source": [
    "### 3. Data Preprocessing"
   ]
  },
  {
   "cell_type": "markdown",
   "id": "b74da9a7-5df5-44c0-9584-1279b87e7ef4",
   "metadata": {},
   "source": [
    "Data preprocessing involves imputing missing values, scaling numerical features, and applying one-hot encoding to categorical variables to ensure the dataset is properly prepared for modeling."
   ]
  },
  {
   "cell_type": "code",
   "execution_count": 16,
   "id": "e0c6df53-69d7-49ba-8d9d-8bbbadeed480",
   "metadata": {},
   "outputs": [],
   "source": [
    "# Preprocess raw data\n",
    "delete_cols = ['Date']\n",
    "data, model_comp= preprocess_data(raw_df, delete_cols)\n",
    "categorical_cols = model_comp['categorical_cols']\n",
    "X_train = data['X_train']\n",
    "y_train = data['y_train']\n",
    "X_val = data['X_val']\n",
    "y_val = data['y_val']\n",
    "X_test = data['X_test']\n",
    "y_test = data['y_test']\n",
    "X_train_xgb = data['X_train_xgb']\n",
    "X_val_xgb = data['X_val_xgb']\n",
    "X_test_xgb = data['X_test_xgb']\n",
    "X_train_xgb[categorical_cols] = X_train_xgb[categorical_cols].astype('category')\n",
    "X_val_xgb[categorical_cols] = X_val_xgb[categorical_cols].astype('category')\n",
    "X_test_xgb[categorical_cols] = X_test_xgb[categorical_cols].astype('category')"
   ]
  },
  {
   "cell_type": "markdown",
   "id": "cb638fa1-bc23-46ca-9fe6-22111ad246f0",
   "metadata": {},
   "source": [
    "### 4. Model Training. Baseline Experiment - Logistic Regression"
   ]
  },
  {
   "cell_type": "code",
   "execution_count": 80,
   "id": "591b4a59-84ff-4e19-a6be-360afde197a6",
   "metadata": {},
   "outputs": [
    {
     "name": "stdout",
     "output_type": "stream",
     "text": [
      "-------------------------------------\n",
      " LogisticRegression\n",
      "-------------------------------------\n",
      "Classification report for Train set\n",
      "              precision    recall  f1-score   support\n",
      "\n",
      "           0     0.8738    0.9461    0.9085     76190\n",
      "           1     0.7351    0.5225    0.6108     21798\n",
      "\n",
      "    accuracy                         0.8519     97988\n",
      "   macro avg     0.8045    0.7343    0.7597     97988\n",
      "weighted avg     0.8430    0.8519    0.8423     97988\n",
      "\n",
      "AUROC for Train set: 0.876636\n",
      "-------------------------------------\n",
      "Classification report for Validation set\n",
      "              precision    recall  f1-score   support\n",
      "\n",
      "           0     0.8704    0.9585    0.9123     13511\n",
      "           1     0.7462    0.4609    0.5698      3578\n",
      "\n",
      "    accuracy                         0.8543     17089\n",
      "   macro avg     0.8083    0.7097    0.7410     17089\n",
      "weighted avg     0.8443    0.8543    0.8406     17089\n",
      "\n",
      "AUROC for Validation set: 0.872397\n"
     ]
    }
   ],
   "source": [
    "# Define and train model\n",
    "model_lr = LogisticRegression(random_state=42, solver  = 'liblinear').fit(X_train, y_train)\n",
    "results_lr_train = predict_and_metrics(model_lr, X_train, y_train, 'Train')\n",
    "results_lr_val = predict_and_metrics(model_lr, X_val, y_val, 'Validation')"
   ]
  },
  {
   "cell_type": "markdown",
   "id": "2de40675-14a0-4868-8627-84d3ae44f6cc",
   "metadata": {},
   "source": [
    "Saving results of the **baseline** model."
   ]
  },
  {
   "cell_type": "code",
   "execution_count": 81,
   "id": "5d51debb-17d9-4409-b9e0-3c5857a73554",
   "metadata": {},
   "outputs": [
    {
     "data": {
      "text/html": [
       "<div>\n",
       "<style scoped>\n",
       "    .dataframe tbody tr th:only-of-type {\n",
       "        vertical-align: middle;\n",
       "    }\n",
       "\n",
       "    .dataframe tbody tr th {\n",
       "        vertical-align: top;\n",
       "    }\n",
       "\n",
       "    .dataframe thead th {\n",
       "        text-align: right;\n",
       "    }\n",
       "</style>\n",
       "<table border=\"1\" class=\"dataframe\">\n",
       "  <thead>\n",
       "    <tr style=\"text-align: right;\">\n",
       "      <th></th>\n",
       "      <th>model</th>\n",
       "      <th>auroc</th>\n",
       "      <th>precision</th>\n",
       "      <th>recall</th>\n",
       "      <th>f1</th>\n",
       "    </tr>\n",
       "  </thead>\n",
       "  <tbody>\n",
       "    <tr>\n",
       "      <th>1</th>\n",
       "      <td>LogisticRegression</td>\n",
       "      <td>0.872397</td>\n",
       "      <td>0.746154</td>\n",
       "      <td>0.460872</td>\n",
       "      <td>0.5698</td>\n",
       "    </tr>\n",
       "  </tbody>\n",
       "</table>\n",
       "</div>"
      ],
      "text/plain": [
       "                model     auroc  precision    recall      f1\n",
       "1  LogisticRegression  0.872397   0.746154  0.460872  0.5698"
      ]
     },
     "execution_count": 81,
     "metadata": {},
     "output_type": "execute_result"
    }
   ],
   "source": [
    "results = pd.DataFrame({\n",
    "    'model': ['LogisticRegression'],\n",
    "    'auroc': [results_lr_val['auroc']],\n",
    "    'precision': [results_lr_val['precision']],\n",
    "    'recall': [results_lr_val['recall']],\n",
    "    'f1': [results_lr_val['f1']]\n",
    "}, index=[1])\n",
    "results"
   ]
  },
  {
   "cell_type": "markdown",
   "id": "0bf3fd75-03ce-4e93-9b94-4c6ce1b6877a",
   "metadata": {},
   "source": [
    "**Threshold Adjustment**\n",
    "\n",
    "The model performs poorly in classifying `class 1` (**recall = 0.4508** on the validation set), meaning it frequently misses rainy days. To improve recall, the classification threshold can be lowered:"
   ]
  },
  {
   "cell_type": "code",
   "execution_count": 82,
   "id": "4218db18-20cb-4107-b9f1-06bd77897372",
   "metadata": {},
   "outputs": [
    {
     "name": "stdout",
     "output_type": "stream",
     "text": [
      "-------------------------------------\n",
      "Classification report for Validation set\n",
      "              precision    recall  f1-score   support\n",
      "\n",
      "           0     0.9159    0.8573    0.8856     13511\n",
      "           1     0.5660    0.7026    0.6269      3578\n",
      "\n",
      "    accuracy                         0.8249     17089\n",
      "   macro avg     0.7409    0.7800    0.7563     17089\n",
      "weighted avg     0.8426    0.8249    0.8315     17089\n",
      "\n"
     ]
    }
   ],
   "source": [
    "threshold = 0.25\n",
    "pred_lr_val2 = [1 if (x>threshold) else 0 for x in results_lr_val['proba']]\n",
    "results_lr_val['precision'] = precision_score(y_val, pred_lr_val2)\n",
    "results_lr_val['recall'] = recall_score (y_val, pred_lr_val2)\n",
    "results_lr_val['f1'] = f1_score(y_val, pred_lr_val2)\n",
    "print (f'-------------------------------------\\nClassification report for Validation set')\n",
    "print(classification_report(y_val, pred_lr_val2, digits=4))"
   ]
  },
  {
   "cell_type": "markdown",
   "id": "c4d1baad-12e0-4454-a62e-56e52e19e12a",
   "metadata": {},
   "source": [
    "Through experimentation, a **threshold** of **0.25** was selected, resulting in an increase in **recall on the validation set** to **0.6976**. Additionally, the **F1-score** improved from **0.5618** to **0.6231**."
   ]
  },
  {
   "cell_type": "code",
   "execution_count": 83,
   "id": "c2dfed3d-52c1-4b8d-a356-15e9ae47ec3c",
   "metadata": {},
   "outputs": [
    {
     "data": {
      "text/html": [
       "<div>\n",
       "<style scoped>\n",
       "    .dataframe tbody tr th:only-of-type {\n",
       "        vertical-align: middle;\n",
       "    }\n",
       "\n",
       "    .dataframe tbody tr th {\n",
       "        vertical-align: top;\n",
       "    }\n",
       "\n",
       "    .dataframe thead th {\n",
       "        text-align: right;\n",
       "    }\n",
       "</style>\n",
       "<table border=\"1\" class=\"dataframe\">\n",
       "  <thead>\n",
       "    <tr style=\"text-align: right;\">\n",
       "      <th></th>\n",
       "      <th>model</th>\n",
       "      <th>auroc</th>\n",
       "      <th>precision</th>\n",
       "      <th>recall</th>\n",
       "      <th>f1</th>\n",
       "    </tr>\n",
       "  </thead>\n",
       "  <tbody>\n",
       "    <tr>\n",
       "      <th>1</th>\n",
       "      <td>LogisticRegression</td>\n",
       "      <td>0.872397</td>\n",
       "      <td>0.746154</td>\n",
       "      <td>0.460872</td>\n",
       "      <td>0.569800</td>\n",
       "    </tr>\n",
       "    <tr>\n",
       "      <th>2</th>\n",
       "      <td>LogisticRegression+Threshold</td>\n",
       "      <td>0.872397</td>\n",
       "      <td>0.565961</td>\n",
       "      <td>0.702627</td>\n",
       "      <td>0.626933</td>\n",
       "    </tr>\n",
       "  </tbody>\n",
       "</table>\n",
       "</div>"
      ],
      "text/plain": [
       "                          model     auroc  precision    recall        f1\n",
       "1            LogisticRegression  0.872397   0.746154  0.460872  0.569800\n",
       "2  LogisticRegression+Threshold  0.872397   0.565961  0.702627  0.626933"
      ]
     },
     "execution_count": 83,
     "metadata": {},
     "output_type": "execute_result"
    }
   ],
   "source": [
    "# Write results to dataframe for future model comparison\n",
    "update_results(results, results_lr_val, 'LogisticRegression+Threshold')"
   ]
  },
  {
   "cell_type": "markdown",
   "id": "51616d26-7ebf-43fb-b562-e2729c34160f",
   "metadata": {},
   "source": [
    "### Conclusions\n",
    "\n",
    "1. This **baseline** model demonstrates a high **ROC AUC** score (**0.872397**) but suffers from a low **F1 score** (**0.5698**). One of the key reasons for this discrepancy is class imbalance, which leads to poor performance in identifying the minority class (`class 1`) with a **recall** of only **0.460872**.\n",
    "\n",
    "2. Model metrics can be improved: **recall on the validation set** to **0.6976**, **F1-score** to **0.6231** by adjusting the threshold level."
   ]
  },
  {
   "cell_type": "markdown",
   "id": "99e5aa20-f972-46a8-a8ae-2e05d80f2562",
   "metadata": {},
   "source": [
    "### 5. Model Training. Random Forest Classifier"
   ]
  },
  {
   "cell_type": "markdown",
   "id": "6595b4d8-24f1-42d1-b07c-03422684ad68",
   "metadata": {},
   "source": [
    "The `Random Forest` model can work with imbalanced classes, but with a significant imbalance, it may become biased toward the majority class. To address this, we will use the following approaches:\n",
    "\n",
    "1. **Class weighting**: Set the parameter class_weight='balanced' in RandomForestClassifier to automatically balance class weights based on their frequencies.\n",
    "1. **Resampling**: Apply the resampling methods to balance the data before training."
   ]
  },
  {
   "cell_type": "markdown",
   "id": "f7864709-0339-4a61-a44d-d820315e3fad",
   "metadata": {},
   "source": [
    "#### 5.1. Random Forest Classifier with Class weighting"
   ]
  },
  {
   "cell_type": "code",
   "execution_count": 22,
   "id": "a33846fe-465c-44cb-b8be-4da01241cdc6",
   "metadata": {},
   "outputs": [
    {
     "name": "stdout",
     "output_type": "stream",
     "text": [
      "-------------------------------------\n",
      " RandomForestClassifier\n",
      "-------------------------------------\n",
      "Classification report for Train set\n",
      "              precision    recall  f1-score   support\n",
      "\n",
      "           0     0.9190    0.7668    0.8360     76190\n",
      "           1     0.4837    0.7637    0.5923     21798\n",
      "\n",
      "    accuracy                         0.7661     97988\n",
      "   macro avg     0.7013    0.7653    0.7141     97988\n",
      "weighted avg     0.8222    0.7661    0.7818     97988\n",
      "\n",
      "AUROC for Train set: 0.845596\n",
      "-------------------------------------\n",
      "Classification report for Validation set\n",
      "              precision    recall  f1-score   support\n",
      "\n",
      "           0     0.9144    0.7871    0.8460     13511\n",
      "           1     0.4732    0.7219    0.5716      3578\n",
      "\n",
      "    accuracy                         0.7735     17089\n",
      "   macro avg     0.6938    0.7545    0.7088     17089\n",
      "weighted avg     0.8221    0.7735    0.7886     17089\n",
      "\n",
      "AUROC for Validation set: 0.837326\n"
     ]
    }
   ],
   "source": [
    "# Define and train Random Forest model with built-in class balancing\n",
    "model_rf = RandomForestClassifier(n_estimators=20, max_leaf_nodes=30, n_jobs=-1, random_state=42, class_weight = 'balanced')\n",
    "model_rf.fit(X_train, y_train)\n",
    "\n",
    "# Make predictions on train and validation sets\n",
    "results_rf_train = predict_and_metrics(model_rf, X_train, y_train, 'Train')\n",
    "results_rf_val = predict_and_metrics(model_rf, X_val, y_val, 'Validation')\n"
   ]
  },
  {
   "cell_type": "code",
   "execution_count": 84,
   "id": "2aac0d99-2b52-47f2-b08b-fd70f148707c",
   "metadata": {},
   "outputs": [
    {
     "data": {
      "text/html": [
       "<div>\n",
       "<style scoped>\n",
       "    .dataframe tbody tr th:only-of-type {\n",
       "        vertical-align: middle;\n",
       "    }\n",
       "\n",
       "    .dataframe tbody tr th {\n",
       "        vertical-align: top;\n",
       "    }\n",
       "\n",
       "    .dataframe thead th {\n",
       "        text-align: right;\n",
       "    }\n",
       "</style>\n",
       "<table border=\"1\" class=\"dataframe\">\n",
       "  <thead>\n",
       "    <tr style=\"text-align: right;\">\n",
       "      <th></th>\n",
       "      <th>model</th>\n",
       "      <th>auroc</th>\n",
       "      <th>precision</th>\n",
       "      <th>recall</th>\n",
       "      <th>f1</th>\n",
       "    </tr>\n",
       "  </thead>\n",
       "  <tbody>\n",
       "    <tr>\n",
       "      <th>1</th>\n",
       "      <td>LogisticRegression</td>\n",
       "      <td>0.872397</td>\n",
       "      <td>0.746154</td>\n",
       "      <td>0.460872</td>\n",
       "      <td>0.569800</td>\n",
       "    </tr>\n",
       "    <tr>\n",
       "      <th>2</th>\n",
       "      <td>LogisticRegression+Threshold</td>\n",
       "      <td>0.872397</td>\n",
       "      <td>0.565961</td>\n",
       "      <td>0.702627</td>\n",
       "      <td>0.626933</td>\n",
       "    </tr>\n",
       "    <tr>\n",
       "      <th>3</th>\n",
       "      <td>RandomForest</td>\n",
       "      <td>0.837326</td>\n",
       "      <td>0.473164</td>\n",
       "      <td>0.721912</td>\n",
       "      <td>0.571650</td>\n",
       "    </tr>\n",
       "  </tbody>\n",
       "</table>\n",
       "</div>"
      ],
      "text/plain": [
       "                          model     auroc  precision    recall        f1\n",
       "1            LogisticRegression  0.872397   0.746154  0.460872  0.569800\n",
       "2  LogisticRegression+Threshold  0.872397   0.565961  0.702627  0.626933\n",
       "3                  RandomForest  0.837326   0.473164  0.721912  0.571650"
      ]
     },
     "execution_count": 84,
     "metadata": {},
     "output_type": "execute_result"
    }
   ],
   "source": [
    "# Write results to dataframe for future model comparison\n",
    "update_results(results, results_rf_val, 'RandomForest')"
   ]
  },
  {
   "cell_type": "markdown",
   "id": "839905d3-ed3d-4fda-a32e-0a419db7d61e",
   "metadata": {},
   "source": [
    "#### 5.2. Random Forest Classifier with Class Balancing"
   ]
  },
  {
   "cell_type": "markdown",
   "id": "b82a32f0-e79f-456c-99d6-70f9baf73242",
   "metadata": {},
   "source": [
    "##### 5.2.1. RandomOverSampler"
   ]
  },
  {
   "cell_type": "code",
   "execution_count": 24,
   "id": "67c9c10b-1de4-4aab-bccf-d4d77f19a65e",
   "metadata": {},
   "outputs": [
    {
     "name": "stdout",
     "output_type": "stream",
     "text": [
      "-------------------------------------\n",
      " RandomForestClassifier\n",
      "-------------------------------------\n",
      "Classification report for Train set\n",
      "              precision    recall  f1-score   support\n",
      "\n",
      "           0     0.7751    0.7542    0.7645     76190\n",
      "           1     0.7607    0.7812    0.7708     76190\n",
      "\n",
      "    accuracy                         0.7677    152380\n",
      "   macro avg     0.7679    0.7677    0.7677    152380\n",
      "weighted avg     0.7679    0.7677    0.7677    152380\n",
      "\n",
      "AUROC for Train set: 0.850848\n",
      "-------------------------------------\n",
      "Classification report for Validation set\n",
      "              precision    recall  f1-score   support\n",
      "\n",
      "           0     0.9188    0.7740    0.8402     13511\n",
      "           1     0.4650    0.7418    0.5716      3578\n",
      "\n",
      "    accuracy                         0.7672     17089\n",
      "   macro avg     0.6919    0.7579    0.7059     17089\n",
      "weighted avg     0.8238    0.7672    0.7840     17089\n",
      "\n",
      "AUROC for Validation set: 0.842482\n"
     ]
    }
   ],
   "source": [
    "# Define and train RandomOverSample, resample data\n",
    "ros = RandomOverSampler(random_state = 42)\n",
    "X_train_ros, y_train_ros = ros.fit_resample(X_train, y_train)\n",
    "\n",
    "# Define and train RF model\n",
    "model_ros = RandomForestClassifier(n_estimators=20, max_leaf_nodes=30, n_jobs=-1, random_state=42)\n",
    "model_ros.fit(X_train_ros, y_train_ros)\n",
    "\n",
    "# Make predictions and calculate metrics\n",
    "results_ros_train = predict_and_metrics(model_ros, X_train_ros, y_train_ros, 'Train')\n",
    "results_ros_val = predict_and_metrics(model_ros, X_val, y_val, 'Validation');"
   ]
  },
  {
   "cell_type": "markdown",
   "id": "7b2ee3f2-d6fb-4af1-ae01-e78fd0bf397e",
   "metadata": {},
   "source": [
    "##### 5.2.2. ADASYN Oversampling"
   ]
  },
  {
   "cell_type": "code",
   "execution_count": 25,
   "id": "4d8dba67-a121-458b-8be1-965a621a56c9",
   "metadata": {},
   "outputs": [
    {
     "name": "stdout",
     "output_type": "stream",
     "text": [
      "-------------------------------------\n",
      " RandomForestClassifier\n",
      "-------------------------------------\n",
      "Classification report for Train set\n",
      "              precision    recall  f1-score   support\n",
      "\n",
      "           0     0.7871    0.7591    0.7729     76190\n",
      "           1     0.7635    0.7911    0.7771     74894\n",
      "\n",
      "    accuracy                         0.7750    151084\n",
      "   macro avg     0.7753    0.7751    0.7750    151084\n",
      "weighted avg     0.7754    0.7750    0.7749    151084\n",
      "\n",
      "AUROC for Train set: 0.857983\n",
      "-------------------------------------\n",
      "Classification report for Validation set\n",
      "              precision    recall  f1-score   support\n",
      "\n",
      "           0     0.9139    0.7848    0.8445     13511\n",
      "           1     0.4701    0.7208    0.5691      3578\n",
      "\n",
      "    accuracy                         0.7714     17089\n",
      "   macro avg     0.6920    0.7528    0.7068     17089\n",
      "weighted avg     0.8210    0.7714    0.7868     17089\n",
      "\n",
      "AUROC for Validation set: 0.837785\n"
     ]
    }
   ],
   "source": [
    "# Define and train ADASYN algorithm, resample data\n",
    "ad = ADASYN(random_state = 42, n_neighbors=7)\n",
    "X_train_ad, y_train_ad = ad.fit_resample(X_train, y_train)\n",
    "\n",
    "# Define and train RF model\n",
    "model_ad = RandomForestClassifier(n_estimators=20, max_leaf_nodes=30, n_jobs=-1, random_state=42)\n",
    "model_ad.fit(X_train_ad, y_train_ad)\n",
    "\n",
    "# Make predictions and calculate metrics\n",
    "results_ad_train = predict_and_metrics(model_ad, X_train_ad, y_train_ad, 'Train')\n",
    "results_ad_val = predict_and_metrics(model_ad, X_val, y_val, 'Validation');"
   ]
  },
  {
   "cell_type": "markdown",
   "id": "3906e524-c46e-47fa-876b-db92bb0ed84a",
   "metadata": {},
   "source": [
    "##### 5.2.3. RandomUnderSampler"
   ]
  },
  {
   "cell_type": "code",
   "execution_count": 26,
   "id": "e4e29333-c1ec-463b-a99b-b7856dd4f54f",
   "metadata": {},
   "outputs": [
    {
     "name": "stdout",
     "output_type": "stream",
     "text": [
      "-------------------------------------\n",
      " RandomForestClassifier\n",
      "-------------------------------------\n",
      "Classification report for Train set\n",
      "              precision    recall  f1-score   support\n",
      "\n",
      "           0     0.7749    0.7625    0.7687     21798\n",
      "           1     0.7663    0.7785    0.7723     21798\n",
      "\n",
      "    accuracy                         0.7705     43596\n",
      "   macro avg     0.7706    0.7705    0.7705     43596\n",
      "weighted avg     0.7706    0.7705    0.7705     43596\n",
      "\n",
      "AUROC for Train set: 0.852272\n",
      "-------------------------------------\n",
      "Classification report for Validation set\n",
      "              precision    recall  f1-score   support\n",
      "\n",
      "           0     0.9184    0.7785    0.8427     13511\n",
      "           1     0.4690    0.7390    0.5738      3578\n",
      "\n",
      "    accuracy                         0.7702     17089\n",
      "   macro avg     0.6937    0.7587    0.7083     17089\n",
      "weighted avg     0.8243    0.7702    0.7864     17089\n",
      "\n",
      "AUROC for Validation set: 0.840409\n"
     ]
    }
   ],
   "source": [
    "# Define and train RandomUnderSample, resample data\n",
    "rus = RandomUnderSampler(random_state = 42)\n",
    "X_train_rus, y_train_rus = rus.fit_resample(X_train, y_train)\n",
    "\n",
    "# Define and train RF model\n",
    "model_rus = RandomForestClassifier(n_estimators=20, max_leaf_nodes=30, n_jobs=-1, random_state=42)\n",
    "model_rus.fit(X_train_rus, y_train_rus)\n",
    "\n",
    "# Make predictions and calculate metrics\n",
    "results_rus_train = predict_and_metrics(model_rus, X_train_rus, y_train_rus, 'Train')\n",
    "results_rus_val = predict_and_metrics(model_rus, X_val, y_val, 'Validation');"
   ]
  },
  {
   "cell_type": "code",
   "execution_count": 85,
   "id": "2a23c772-8a8b-4add-9e0a-b05af81c9b22",
   "metadata": {},
   "outputs": [
    {
     "data": {
      "text/html": [
       "<div>\n",
       "<style scoped>\n",
       "    .dataframe tbody tr th:only-of-type {\n",
       "        vertical-align: middle;\n",
       "    }\n",
       "\n",
       "    .dataframe tbody tr th {\n",
       "        vertical-align: top;\n",
       "    }\n",
       "\n",
       "    .dataframe thead th {\n",
       "        text-align: right;\n",
       "    }\n",
       "</style>\n",
       "<table border=\"1\" class=\"dataframe\">\n",
       "  <thead>\n",
       "    <tr style=\"text-align: right;\">\n",
       "      <th></th>\n",
       "      <th>model</th>\n",
       "      <th>auroc</th>\n",
       "      <th>precision</th>\n",
       "      <th>recall</th>\n",
       "      <th>f1</th>\n",
       "    </tr>\n",
       "  </thead>\n",
       "  <tbody>\n",
       "    <tr>\n",
       "      <th>1</th>\n",
       "      <td>LogisticRegression</td>\n",
       "      <td>0.872397</td>\n",
       "      <td>0.746154</td>\n",
       "      <td>0.460872</td>\n",
       "      <td>0.569800</td>\n",
       "    </tr>\n",
       "    <tr>\n",
       "      <th>2</th>\n",
       "      <td>LogisticRegression+Threshold</td>\n",
       "      <td>0.872397</td>\n",
       "      <td>0.565961</td>\n",
       "      <td>0.702627</td>\n",
       "      <td>0.626933</td>\n",
       "    </tr>\n",
       "    <tr>\n",
       "      <th>3</th>\n",
       "      <td>RandomForest</td>\n",
       "      <td>0.837326</td>\n",
       "      <td>0.473164</td>\n",
       "      <td>0.721912</td>\n",
       "      <td>0.571650</td>\n",
       "    </tr>\n",
       "    <tr>\n",
       "      <th>4</th>\n",
       "      <td>RandomForest+ROS</td>\n",
       "      <td>0.842482</td>\n",
       "      <td>0.464961</td>\n",
       "      <td>0.741755</td>\n",
       "      <td>0.571613</td>\n",
       "    </tr>\n",
       "  </tbody>\n",
       "</table>\n",
       "</div>"
      ],
      "text/plain": [
       "                          model     auroc  precision    recall        f1\n",
       "1            LogisticRegression  0.872397   0.746154  0.460872  0.569800\n",
       "2  LogisticRegression+Threshold  0.872397   0.565961  0.702627  0.626933\n",
       "3                  RandomForest  0.837326   0.473164  0.721912  0.571650\n",
       "4              RandomForest+ROS  0.842482   0.464961  0.741755  0.571613"
      ]
     },
     "execution_count": 85,
     "metadata": {},
     "output_type": "execute_result"
    }
   ],
   "source": [
    "# Write results to dataframe for future model comparison\n",
    "update_results(results, results_ros_val, 'RandomForest+ROS')"
   ]
  },
  {
   "cell_type": "markdown",
   "id": "18f21fec-7202-4b85-802e-d2b8c07a74c5",
   "metadata": {},
   "source": [
    "The usage of `RandomOverSampler` resulted in a slight improvement in **ROCAUC** (from **0.837326** to **0.842482**), indicating a better ability of the model to distinguish between classes. However, the impact on **precision** and **recall** was minimal: **precision** slightly **decreased** (from **0.473164 to 0.464961**), and **recall** slightly increased (from 0.721912 to **0.741755**). The **F1-score** remained virtually unchanged. This suggests that while RandomOverSampler improved slightly the model's ability to differentiate between classes."
   ]
  },
  {
   "cell_type": "markdown",
   "id": "6ac2ebae-54fc-47e0-ae4a-8ea5bc121290",
   "metadata": {},
   "source": [
    "### Conclusions\n",
    "\n",
    "In our case, with a class ratio of **3.46:1**, `RandomOverSampler` will be the best choice as it helps balance the classes without losing important information from `class 0`.\n",
    "\n",
    "The use of methods related to creating synthetic points (such as `ADASYN` or `SMOTE`) is less desirable, as a large amount of data imputation has been applied, and generating synthetic points could significantly distort the data."
   ]
  },
  {
   "cell_type": "markdown",
   "id": "551f96e8-8ac8-4814-a8cb-9934b383de05",
   "metadata": {},
   "source": [
    "#### 5.3. Random Forest Classifier Hyperparameter Tuning"
   ]
  },
  {
   "cell_type": "markdown",
   "id": "245db004-f69c-4aba-abbd-553afd52d24a",
   "metadata": {},
   "source": [
    "Let's optimize hyperparameters."
   ]
  },
  {
   "cell_type": "code",
   "execution_count": 28,
   "id": "5a16238d-d2aa-42cf-8258-9deb96971bfd",
   "metadata": {},
   "outputs": [
    {
     "name": "stdout",
     "output_type": "stream",
     "text": [
      "Fitting 4 folds for each of 54 candidates, totalling 216 fits\n"
     ]
    },
    {
     "data": {
      "text/html": [
       "<style>#sk-container-id-1 {\n",
       "  /* Definition of color scheme common for light and dark mode */\n",
       "  --sklearn-color-text: black;\n",
       "  --sklearn-color-line: gray;\n",
       "  /* Definition of color scheme for unfitted estimators */\n",
       "  --sklearn-color-unfitted-level-0: #fff5e6;\n",
       "  --sklearn-color-unfitted-level-1: #f6e4d2;\n",
       "  --sklearn-color-unfitted-level-2: #ffe0b3;\n",
       "  --sklearn-color-unfitted-level-3: chocolate;\n",
       "  /* Definition of color scheme for fitted estimators */\n",
       "  --sklearn-color-fitted-level-0: #f0f8ff;\n",
       "  --sklearn-color-fitted-level-1: #d4ebff;\n",
       "  --sklearn-color-fitted-level-2: #b3dbfd;\n",
       "  --sklearn-color-fitted-level-3: cornflowerblue;\n",
       "\n",
       "  /* Specific color for light theme */\n",
       "  --sklearn-color-text-on-default-background: var(--sg-text-color, var(--theme-code-foreground, var(--jp-content-font-color1, black)));\n",
       "  --sklearn-color-background: var(--sg-background-color, var(--theme-background, var(--jp-layout-color0, white)));\n",
       "  --sklearn-color-border-box: var(--sg-text-color, var(--theme-code-foreground, var(--jp-content-font-color1, black)));\n",
       "  --sklearn-color-icon: #696969;\n",
       "\n",
       "  @media (prefers-color-scheme: dark) {\n",
       "    /* Redefinition of color scheme for dark theme */\n",
       "    --sklearn-color-text-on-default-background: var(--sg-text-color, var(--theme-code-foreground, var(--jp-content-font-color1, white)));\n",
       "    --sklearn-color-background: var(--sg-background-color, var(--theme-background, var(--jp-layout-color0, #111)));\n",
       "    --sklearn-color-border-box: var(--sg-text-color, var(--theme-code-foreground, var(--jp-content-font-color1, white)));\n",
       "    --sklearn-color-icon: #878787;\n",
       "  }\n",
       "}\n",
       "\n",
       "#sk-container-id-1 {\n",
       "  color: var(--sklearn-color-text);\n",
       "}\n",
       "\n",
       "#sk-container-id-1 pre {\n",
       "  padding: 0;\n",
       "}\n",
       "\n",
       "#sk-container-id-1 input.sk-hidden--visually {\n",
       "  border: 0;\n",
       "  clip: rect(1px 1px 1px 1px);\n",
       "  clip: rect(1px, 1px, 1px, 1px);\n",
       "  height: 1px;\n",
       "  margin: -1px;\n",
       "  overflow: hidden;\n",
       "  padding: 0;\n",
       "  position: absolute;\n",
       "  width: 1px;\n",
       "}\n",
       "\n",
       "#sk-container-id-1 div.sk-dashed-wrapped {\n",
       "  border: 1px dashed var(--sklearn-color-line);\n",
       "  margin: 0 0.4em 0.5em 0.4em;\n",
       "  box-sizing: border-box;\n",
       "  padding-bottom: 0.4em;\n",
       "  background-color: var(--sklearn-color-background);\n",
       "}\n",
       "\n",
       "#sk-container-id-1 div.sk-container {\n",
       "  /* jupyter's `normalize.less` sets `[hidden] { display: none; }`\n",
       "     but bootstrap.min.css set `[hidden] { display: none !important; }`\n",
       "     so we also need the `!important` here to be able to override the\n",
       "     default hidden behavior on the sphinx rendered scikit-learn.org.\n",
       "     See: https://github.com/scikit-learn/scikit-learn/issues/21755 */\n",
       "  display: inline-block !important;\n",
       "  position: relative;\n",
       "}\n",
       "\n",
       "#sk-container-id-1 div.sk-text-repr-fallback {\n",
       "  display: none;\n",
       "}\n",
       "\n",
       "div.sk-parallel-item,\n",
       "div.sk-serial,\n",
       "div.sk-item {\n",
       "  /* draw centered vertical line to link estimators */\n",
       "  background-image: linear-gradient(var(--sklearn-color-text-on-default-background), var(--sklearn-color-text-on-default-background));\n",
       "  background-size: 2px 100%;\n",
       "  background-repeat: no-repeat;\n",
       "  background-position: center center;\n",
       "}\n",
       "\n",
       "/* Parallel-specific style estimator block */\n",
       "\n",
       "#sk-container-id-1 div.sk-parallel-item::after {\n",
       "  content: \"\";\n",
       "  width: 100%;\n",
       "  border-bottom: 2px solid var(--sklearn-color-text-on-default-background);\n",
       "  flex-grow: 1;\n",
       "}\n",
       "\n",
       "#sk-container-id-1 div.sk-parallel {\n",
       "  display: flex;\n",
       "  align-items: stretch;\n",
       "  justify-content: center;\n",
       "  background-color: var(--sklearn-color-background);\n",
       "  position: relative;\n",
       "}\n",
       "\n",
       "#sk-container-id-1 div.sk-parallel-item {\n",
       "  display: flex;\n",
       "  flex-direction: column;\n",
       "}\n",
       "\n",
       "#sk-container-id-1 div.sk-parallel-item:first-child::after {\n",
       "  align-self: flex-end;\n",
       "  width: 50%;\n",
       "}\n",
       "\n",
       "#sk-container-id-1 div.sk-parallel-item:last-child::after {\n",
       "  align-self: flex-start;\n",
       "  width: 50%;\n",
       "}\n",
       "\n",
       "#sk-container-id-1 div.sk-parallel-item:only-child::after {\n",
       "  width: 0;\n",
       "}\n",
       "\n",
       "/* Serial-specific style estimator block */\n",
       "\n",
       "#sk-container-id-1 div.sk-serial {\n",
       "  display: flex;\n",
       "  flex-direction: column;\n",
       "  align-items: center;\n",
       "  background-color: var(--sklearn-color-background);\n",
       "  padding-right: 1em;\n",
       "  padding-left: 1em;\n",
       "}\n",
       "\n",
       "\n",
       "/* Toggleable style: style used for estimator/Pipeline/ColumnTransformer box that is\n",
       "clickable and can be expanded/collapsed.\n",
       "- Pipeline and ColumnTransformer use this feature and define the default style\n",
       "- Estimators will overwrite some part of the style using the `sk-estimator` class\n",
       "*/\n",
       "\n",
       "/* Pipeline and ColumnTransformer style (default) */\n",
       "\n",
       "#sk-container-id-1 div.sk-toggleable {\n",
       "  /* Default theme specific background. It is overwritten whether we have a\n",
       "  specific estimator or a Pipeline/ColumnTransformer */\n",
       "  background-color: var(--sklearn-color-background);\n",
       "}\n",
       "\n",
       "/* Toggleable label */\n",
       "#sk-container-id-1 label.sk-toggleable__label {\n",
       "  cursor: pointer;\n",
       "  display: block;\n",
       "  width: 100%;\n",
       "  margin-bottom: 0;\n",
       "  padding: 0.5em;\n",
       "  box-sizing: border-box;\n",
       "  text-align: center;\n",
       "}\n",
       "\n",
       "#sk-container-id-1 label.sk-toggleable__label-arrow:before {\n",
       "  /* Arrow on the left of the label */\n",
       "  content: \"▸\";\n",
       "  float: left;\n",
       "  margin-right: 0.25em;\n",
       "  color: var(--sklearn-color-icon);\n",
       "}\n",
       "\n",
       "#sk-container-id-1 label.sk-toggleable__label-arrow:hover:before {\n",
       "  color: var(--sklearn-color-text);\n",
       "}\n",
       "\n",
       "/* Toggleable content - dropdown */\n",
       "\n",
       "#sk-container-id-1 div.sk-toggleable__content {\n",
       "  max-height: 0;\n",
       "  max-width: 0;\n",
       "  overflow: hidden;\n",
       "  text-align: left;\n",
       "  /* unfitted */\n",
       "  background-color: var(--sklearn-color-unfitted-level-0);\n",
       "}\n",
       "\n",
       "#sk-container-id-1 div.sk-toggleable__content.fitted {\n",
       "  /* fitted */\n",
       "  background-color: var(--sklearn-color-fitted-level-0);\n",
       "}\n",
       "\n",
       "#sk-container-id-1 div.sk-toggleable__content pre {\n",
       "  margin: 0.2em;\n",
       "  border-radius: 0.25em;\n",
       "  color: var(--sklearn-color-text);\n",
       "  /* unfitted */\n",
       "  background-color: var(--sklearn-color-unfitted-level-0);\n",
       "}\n",
       "\n",
       "#sk-container-id-1 div.sk-toggleable__content.fitted pre {\n",
       "  /* unfitted */\n",
       "  background-color: var(--sklearn-color-fitted-level-0);\n",
       "}\n",
       "\n",
       "#sk-container-id-1 input.sk-toggleable__control:checked~div.sk-toggleable__content {\n",
       "  /* Expand drop-down */\n",
       "  max-height: 200px;\n",
       "  max-width: 100%;\n",
       "  overflow: auto;\n",
       "}\n",
       "\n",
       "#sk-container-id-1 input.sk-toggleable__control:checked~label.sk-toggleable__label-arrow:before {\n",
       "  content: \"▾\";\n",
       "}\n",
       "\n",
       "/* Pipeline/ColumnTransformer-specific style */\n",
       "\n",
       "#sk-container-id-1 div.sk-label input.sk-toggleable__control:checked~label.sk-toggleable__label {\n",
       "  color: var(--sklearn-color-text);\n",
       "  background-color: var(--sklearn-color-unfitted-level-2);\n",
       "}\n",
       "\n",
       "#sk-container-id-1 div.sk-label.fitted input.sk-toggleable__control:checked~label.sk-toggleable__label {\n",
       "  background-color: var(--sklearn-color-fitted-level-2);\n",
       "}\n",
       "\n",
       "/* Estimator-specific style */\n",
       "\n",
       "/* Colorize estimator box */\n",
       "#sk-container-id-1 div.sk-estimator input.sk-toggleable__control:checked~label.sk-toggleable__label {\n",
       "  /* unfitted */\n",
       "  background-color: var(--sklearn-color-unfitted-level-2);\n",
       "}\n",
       "\n",
       "#sk-container-id-1 div.sk-estimator.fitted input.sk-toggleable__control:checked~label.sk-toggleable__label {\n",
       "  /* fitted */\n",
       "  background-color: var(--sklearn-color-fitted-level-2);\n",
       "}\n",
       "\n",
       "#sk-container-id-1 div.sk-label label.sk-toggleable__label,\n",
       "#sk-container-id-1 div.sk-label label {\n",
       "  /* The background is the default theme color */\n",
       "  color: var(--sklearn-color-text-on-default-background);\n",
       "}\n",
       "\n",
       "/* On hover, darken the color of the background */\n",
       "#sk-container-id-1 div.sk-label:hover label.sk-toggleable__label {\n",
       "  color: var(--sklearn-color-text);\n",
       "  background-color: var(--sklearn-color-unfitted-level-2);\n",
       "}\n",
       "\n",
       "/* Label box, darken color on hover, fitted */\n",
       "#sk-container-id-1 div.sk-label.fitted:hover label.sk-toggleable__label.fitted {\n",
       "  color: var(--sklearn-color-text);\n",
       "  background-color: var(--sklearn-color-fitted-level-2);\n",
       "}\n",
       "\n",
       "/* Estimator label */\n",
       "\n",
       "#sk-container-id-1 div.sk-label label {\n",
       "  font-family: monospace;\n",
       "  font-weight: bold;\n",
       "  display: inline-block;\n",
       "  line-height: 1.2em;\n",
       "}\n",
       "\n",
       "#sk-container-id-1 div.sk-label-container {\n",
       "  text-align: center;\n",
       "}\n",
       "\n",
       "/* Estimator-specific */\n",
       "#sk-container-id-1 div.sk-estimator {\n",
       "  font-family: monospace;\n",
       "  border: 1px dotted var(--sklearn-color-border-box);\n",
       "  border-radius: 0.25em;\n",
       "  box-sizing: border-box;\n",
       "  margin-bottom: 0.5em;\n",
       "  /* unfitted */\n",
       "  background-color: var(--sklearn-color-unfitted-level-0);\n",
       "}\n",
       "\n",
       "#sk-container-id-1 div.sk-estimator.fitted {\n",
       "  /* fitted */\n",
       "  background-color: var(--sklearn-color-fitted-level-0);\n",
       "}\n",
       "\n",
       "/* on hover */\n",
       "#sk-container-id-1 div.sk-estimator:hover {\n",
       "  /* unfitted */\n",
       "  background-color: var(--sklearn-color-unfitted-level-2);\n",
       "}\n",
       "\n",
       "#sk-container-id-1 div.sk-estimator.fitted:hover {\n",
       "  /* fitted */\n",
       "  background-color: var(--sklearn-color-fitted-level-2);\n",
       "}\n",
       "\n",
       "/* Specification for estimator info (e.g. \"i\" and \"?\") */\n",
       "\n",
       "/* Common style for \"i\" and \"?\" */\n",
       "\n",
       ".sk-estimator-doc-link,\n",
       "a:link.sk-estimator-doc-link,\n",
       "a:visited.sk-estimator-doc-link {\n",
       "  float: right;\n",
       "  font-size: smaller;\n",
       "  line-height: 1em;\n",
       "  font-family: monospace;\n",
       "  background-color: var(--sklearn-color-background);\n",
       "  border-radius: 1em;\n",
       "  height: 1em;\n",
       "  width: 1em;\n",
       "  text-decoration: none !important;\n",
       "  margin-left: 1ex;\n",
       "  /* unfitted */\n",
       "  border: var(--sklearn-color-unfitted-level-1) 1pt solid;\n",
       "  color: var(--sklearn-color-unfitted-level-1);\n",
       "}\n",
       "\n",
       ".sk-estimator-doc-link.fitted,\n",
       "a:link.sk-estimator-doc-link.fitted,\n",
       "a:visited.sk-estimator-doc-link.fitted {\n",
       "  /* fitted */\n",
       "  border: var(--sklearn-color-fitted-level-1) 1pt solid;\n",
       "  color: var(--sklearn-color-fitted-level-1);\n",
       "}\n",
       "\n",
       "/* On hover */\n",
       "div.sk-estimator:hover .sk-estimator-doc-link:hover,\n",
       ".sk-estimator-doc-link:hover,\n",
       "div.sk-label-container:hover .sk-estimator-doc-link:hover,\n",
       ".sk-estimator-doc-link:hover {\n",
       "  /* unfitted */\n",
       "  background-color: var(--sklearn-color-unfitted-level-3);\n",
       "  color: var(--sklearn-color-background);\n",
       "  text-decoration: none;\n",
       "}\n",
       "\n",
       "div.sk-estimator.fitted:hover .sk-estimator-doc-link.fitted:hover,\n",
       ".sk-estimator-doc-link.fitted:hover,\n",
       "div.sk-label-container:hover .sk-estimator-doc-link.fitted:hover,\n",
       ".sk-estimator-doc-link.fitted:hover {\n",
       "  /* fitted */\n",
       "  background-color: var(--sklearn-color-fitted-level-3);\n",
       "  color: var(--sklearn-color-background);\n",
       "  text-decoration: none;\n",
       "}\n",
       "\n",
       "/* Span, style for the box shown on hovering the info icon */\n",
       ".sk-estimator-doc-link span {\n",
       "  display: none;\n",
       "  z-index: 9999;\n",
       "  position: relative;\n",
       "  font-weight: normal;\n",
       "  right: .2ex;\n",
       "  padding: .5ex;\n",
       "  margin: .5ex;\n",
       "  width: min-content;\n",
       "  min-width: 20ex;\n",
       "  max-width: 50ex;\n",
       "  color: var(--sklearn-color-text);\n",
       "  box-shadow: 2pt 2pt 4pt #999;\n",
       "  /* unfitted */\n",
       "  background: var(--sklearn-color-unfitted-level-0);\n",
       "  border: .5pt solid var(--sklearn-color-unfitted-level-3);\n",
       "}\n",
       "\n",
       ".sk-estimator-doc-link.fitted span {\n",
       "  /* fitted */\n",
       "  background: var(--sklearn-color-fitted-level-0);\n",
       "  border: var(--sklearn-color-fitted-level-3);\n",
       "}\n",
       "\n",
       ".sk-estimator-doc-link:hover span {\n",
       "  display: block;\n",
       "}\n",
       "\n",
       "/* \"?\"-specific style due to the `<a>` HTML tag */\n",
       "\n",
       "#sk-container-id-1 a.estimator_doc_link {\n",
       "  float: right;\n",
       "  font-size: 1rem;\n",
       "  line-height: 1em;\n",
       "  font-family: monospace;\n",
       "  background-color: var(--sklearn-color-background);\n",
       "  border-radius: 1rem;\n",
       "  height: 1rem;\n",
       "  width: 1rem;\n",
       "  text-decoration: none;\n",
       "  /* unfitted */\n",
       "  color: var(--sklearn-color-unfitted-level-1);\n",
       "  border: var(--sklearn-color-unfitted-level-1) 1pt solid;\n",
       "}\n",
       "\n",
       "#sk-container-id-1 a.estimator_doc_link.fitted {\n",
       "  /* fitted */\n",
       "  border: var(--sklearn-color-fitted-level-1) 1pt solid;\n",
       "  color: var(--sklearn-color-fitted-level-1);\n",
       "}\n",
       "\n",
       "/* On hover */\n",
       "#sk-container-id-1 a.estimator_doc_link:hover {\n",
       "  /* unfitted */\n",
       "  background-color: var(--sklearn-color-unfitted-level-3);\n",
       "  color: var(--sklearn-color-background);\n",
       "  text-decoration: none;\n",
       "}\n",
       "\n",
       "#sk-container-id-1 a.estimator_doc_link.fitted:hover {\n",
       "  /* fitted */\n",
       "  background-color: var(--sklearn-color-fitted-level-3);\n",
       "}\n",
       "</style><div id=\"sk-container-id-1\" class=\"sk-top-container\"><div class=\"sk-text-repr-fallback\"><pre>GridSearchCV(cv=4,\n",
       "             estimator=RandomForestClassifier(max_leaf_nodes=30,\n",
       "                                              n_estimators=20, n_jobs=-1,\n",
       "                                              random_state=42),\n",
       "             n_jobs=-1,\n",
       "             param_grid={&#x27;bootstrap&#x27;: [True, False],\n",
       "                         &#x27;min_samples_leaf&#x27;: [1, 2, 4],\n",
       "                         &#x27;min_samples_split&#x27;: [2, 5, 10],\n",
       "                         &#x27;n_estimators&#x27;: [20, 25, 30]},\n",
       "             scoring=&#x27;roc_auc&#x27;, verbose=3)</pre><b>In a Jupyter environment, please rerun this cell to show the HTML representation or trust the notebook. <br />On GitHub, the HTML representation is unable to render, please try loading this page with nbviewer.org.</b></div><div class=\"sk-container\" hidden><div class=\"sk-item sk-dashed-wrapped\"><div class=\"sk-label-container\"><div class=\"sk-label fitted sk-toggleable\"><input class=\"sk-toggleable__control sk-hidden--visually\" id=\"sk-estimator-id-1\" type=\"checkbox\" ><label for=\"sk-estimator-id-1\" class=\"sk-toggleable__label fitted sk-toggleable__label-arrow fitted\">&nbsp;&nbsp;GridSearchCV<a class=\"sk-estimator-doc-link fitted\" rel=\"noreferrer\" target=\"_blank\" href=\"https://scikit-learn.org/1.4/modules/generated/sklearn.model_selection.GridSearchCV.html\">?<span>Documentation for GridSearchCV</span></a><span class=\"sk-estimator-doc-link fitted\">i<span>Fitted</span></span></label><div class=\"sk-toggleable__content fitted\"><pre>GridSearchCV(cv=4,\n",
       "             estimator=RandomForestClassifier(max_leaf_nodes=30,\n",
       "                                              n_estimators=20, n_jobs=-1,\n",
       "                                              random_state=42),\n",
       "             n_jobs=-1,\n",
       "             param_grid={&#x27;bootstrap&#x27;: [True, False],\n",
       "                         &#x27;min_samples_leaf&#x27;: [1, 2, 4],\n",
       "                         &#x27;min_samples_split&#x27;: [2, 5, 10],\n",
       "                         &#x27;n_estimators&#x27;: [20, 25, 30]},\n",
       "             scoring=&#x27;roc_auc&#x27;, verbose=3)</pre></div> </div></div><div class=\"sk-parallel\"><div class=\"sk-parallel-item\"><div class=\"sk-item\"><div class=\"sk-label-container\"><div class=\"sk-label fitted sk-toggleable\"><input class=\"sk-toggleable__control sk-hidden--visually\" id=\"sk-estimator-id-2\" type=\"checkbox\" ><label for=\"sk-estimator-id-2\" class=\"sk-toggleable__label fitted sk-toggleable__label-arrow fitted\">estimator: RandomForestClassifier</label><div class=\"sk-toggleable__content fitted\"><pre>RandomForestClassifier(max_leaf_nodes=30, n_estimators=20, n_jobs=-1,\n",
       "                       random_state=42)</pre></div> </div></div><div class=\"sk-serial\"><div class=\"sk-item\"><div class=\"sk-estimator fitted sk-toggleable\"><input class=\"sk-toggleable__control sk-hidden--visually\" id=\"sk-estimator-id-3\" type=\"checkbox\" ><label for=\"sk-estimator-id-3\" class=\"sk-toggleable__label fitted sk-toggleable__label-arrow fitted\">&nbsp;RandomForestClassifier<a class=\"sk-estimator-doc-link fitted\" rel=\"noreferrer\" target=\"_blank\" href=\"https://scikit-learn.org/1.4/modules/generated/sklearn.ensemble.RandomForestClassifier.html\">?<span>Documentation for RandomForestClassifier</span></a></label><div class=\"sk-toggleable__content fitted\"><pre>RandomForestClassifier(max_leaf_nodes=30, n_estimators=20, n_jobs=-1,\n",
       "                       random_state=42)</pre></div> </div></div></div></div></div></div></div></div></div>"
      ],
      "text/plain": [
       "GridSearchCV(cv=4,\n",
       "             estimator=RandomForestClassifier(max_leaf_nodes=30,\n",
       "                                              n_estimators=20, n_jobs=-1,\n",
       "                                              random_state=42),\n",
       "             n_jobs=-1,\n",
       "             param_grid={'bootstrap': [True, False],\n",
       "                         'min_samples_leaf': [1, 2, 4],\n",
       "                         'min_samples_split': [2, 5, 10],\n",
       "                         'n_estimators': [20, 25, 30]},\n",
       "             scoring='roc_auc', verbose=3)"
      ]
     },
     "execution_count": 28,
     "metadata": {},
     "output_type": "execute_result"
    }
   ],
   "source": [
    "# Set the parameter grid, run hyperparameter tuning\n",
    "param_grid = {\n",
    "    'n_estimators': [20, 25, 30 ], \n",
    "    'min_samples_split': [2, 5, 10],\n",
    "    'min_samples_leaf': [1, 2, 4],\n",
    "    'bootstrap': [True, False]\n",
    "}\n",
    "gs = GridSearchCV(model_ros, param_grid, scoring = 'roc_auc', cv = 4, n_jobs = -1, verbose=3)\n",
    "gs.fit(X_train_ros, y_train_ros)"
   ]
  },
  {
   "cell_type": "code",
   "execution_count": 29,
   "id": "848608c7-c53e-409f-b0f3-7fdb7f357844",
   "metadata": {},
   "outputs": [
    {
     "name": "stdout",
     "output_type": "stream",
     "text": [
      "-------------------------------------\n",
      " RandomForestClassifier\n",
      "-------------------------------------\n",
      "Classification report for Train set\n",
      "              precision    recall  f1-score   support\n",
      "\n",
      "           0     0.7722    0.7665    0.7694     76190\n",
      "           1     0.7682    0.7739    0.7710     76190\n",
      "\n",
      "    accuracy                         0.7702    152380\n",
      "   macro avg     0.7702    0.7702    0.7702    152380\n",
      "weighted avg     0.7702    0.7702    0.7702    152380\n",
      "\n",
      "AUROC for Train set: 0.852801\n",
      "-------------------------------------\n",
      "Classification report for Validation set\n",
      "              precision    recall  f1-score   support\n",
      "\n",
      "           0     0.9169    0.7890    0.8482     13511\n",
      "           1     0.4781    0.7300    0.5778      3578\n",
      "\n",
      "    accuracy                         0.7766     17089\n",
      "   macro avg     0.6975    0.7595    0.7130     17089\n",
      "weighted avg     0.8250    0.7766    0.7915     17089\n",
      "\n",
      "AUROC for Validation set: 0.844412\n"
     ]
    }
   ],
   "source": [
    "# Make predictions and calculate metrics for best found estimator \n",
    "model_gs = gs.best_estimator_\n",
    "results_gs_train = predict_and_metrics(model_gs, X_train_ros, y_train_ros, 'Train')\n",
    "results_gs_val = predict_and_metrics(model_gs, X_val, y_val, 'Validation')\n"
   ]
  },
  {
   "cell_type": "code",
   "execution_count": 86,
   "id": "dc53c71c-cb9b-4d4d-8bd3-31ff9b5396cd",
   "metadata": {},
   "outputs": [
    {
     "data": {
      "text/html": [
       "<div>\n",
       "<style scoped>\n",
       "    .dataframe tbody tr th:only-of-type {\n",
       "        vertical-align: middle;\n",
       "    }\n",
       "\n",
       "    .dataframe tbody tr th {\n",
       "        vertical-align: top;\n",
       "    }\n",
       "\n",
       "    .dataframe thead th {\n",
       "        text-align: right;\n",
       "    }\n",
       "</style>\n",
       "<table border=\"1\" class=\"dataframe\">\n",
       "  <thead>\n",
       "    <tr style=\"text-align: right;\">\n",
       "      <th></th>\n",
       "      <th>model</th>\n",
       "      <th>auroc</th>\n",
       "      <th>precision</th>\n",
       "      <th>recall</th>\n",
       "      <th>f1</th>\n",
       "    </tr>\n",
       "  </thead>\n",
       "  <tbody>\n",
       "    <tr>\n",
       "      <th>1</th>\n",
       "      <td>LogisticRegression</td>\n",
       "      <td>0.872397</td>\n",
       "      <td>0.746154</td>\n",
       "      <td>0.460872</td>\n",
       "      <td>0.569800</td>\n",
       "    </tr>\n",
       "    <tr>\n",
       "      <th>2</th>\n",
       "      <td>LogisticRegression+Threshold</td>\n",
       "      <td>0.872397</td>\n",
       "      <td>0.565961</td>\n",
       "      <td>0.702627</td>\n",
       "      <td>0.626933</td>\n",
       "    </tr>\n",
       "    <tr>\n",
       "      <th>3</th>\n",
       "      <td>RandomForest</td>\n",
       "      <td>0.837326</td>\n",
       "      <td>0.473164</td>\n",
       "      <td>0.721912</td>\n",
       "      <td>0.571650</td>\n",
       "    </tr>\n",
       "    <tr>\n",
       "      <th>4</th>\n",
       "      <td>RandomForest+ROS</td>\n",
       "      <td>0.842482</td>\n",
       "      <td>0.464961</td>\n",
       "      <td>0.741755</td>\n",
       "      <td>0.571613</td>\n",
       "    </tr>\n",
       "    <tr>\n",
       "      <th>5</th>\n",
       "      <td>RandomForest+GridSearchCV</td>\n",
       "      <td>0.844412</td>\n",
       "      <td>0.478126</td>\n",
       "      <td>0.730017</td>\n",
       "      <td>0.577812</td>\n",
       "    </tr>\n",
       "  </tbody>\n",
       "</table>\n",
       "</div>"
      ],
      "text/plain": [
       "                          model     auroc  precision    recall        f1\n",
       "1            LogisticRegression  0.872397   0.746154  0.460872  0.569800\n",
       "2  LogisticRegression+Threshold  0.872397   0.565961  0.702627  0.626933\n",
       "3                  RandomForest  0.837326   0.473164  0.721912  0.571650\n",
       "4              RandomForest+ROS  0.842482   0.464961  0.741755  0.571613\n",
       "5     RandomForest+GridSearchCV  0.844412   0.478126  0.730017  0.577812"
      ]
     },
     "execution_count": 86,
     "metadata": {},
     "output_type": "execute_result"
    }
   ],
   "source": [
    "# Write results to dataframe for future model comparison\n",
    "update_results(results, results_gs_val, 'RandomForest+GridSearchCV')"
   ]
  },
  {
   "cell_type": "markdown",
   "id": "77932b17-791e-406e-a0da-42591493376c",
   "metadata": {},
   "source": [
    "### Conclusions\n",
    "\n",
    "Applying `GridSearchCV` didn't have a significant effect on model performance."
   ]
  },
  {
   "cell_type": "markdown",
   "id": "8892b19a-15d3-42b9-93ef-220beb15a05a",
   "metadata": {},
   "source": [
    "### 6. Model Training. XGBoost model"
   ]
  },
  {
   "cell_type": "markdown",
   "id": "7e0d9649-2189-463f-a02a-3fc295833fb1",
   "metadata": {},
   "source": [
    "The `XGBoost` model handles missing values and categorical data well, so the original data will be used for training and validation without preprocessing."
   ]
  },
  {
   "cell_type": "code",
   "execution_count": 31,
   "id": "52a71413-c63f-47ed-b469-ba50d517560e",
   "metadata": {},
   "outputs": [
    {
     "name": "stdout",
     "output_type": "stream",
     "text": [
      "-------------------------------------\n",
      " XGBClassifier\n",
      "-------------------------------------\n",
      "Classification report for Train set\n",
      "              precision    recall  f1-score   support\n",
      "\n",
      "           0     0.8628    0.9602    0.9089     76190\n",
      "           1     0.7704    0.4661    0.5808     21798\n",
      "\n",
      "    accuracy                         0.8503     97988\n",
      "   macro avg     0.8166    0.7132    0.7449     97988\n",
      "weighted avg     0.8422    0.8503    0.8359     97988\n",
      "\n",
      "AUROC for Train set: 0.872821\n",
      "-------------------------------------\n",
      "Classification report for Validation set\n",
      "              precision    recall  f1-score   support\n",
      "\n",
      "           0     0.8633    0.9654    0.9115     13511\n",
      "           1     0.7638    0.4229    0.5443      3578\n",
      "\n",
      "    accuracy                         0.8518     17089\n",
      "   macro avg     0.8135    0.6941    0.7279     17089\n",
      "weighted avg     0.8425    0.8518    0.8346     17089\n",
      "\n",
      "AUROC for Validation set: 0.865837\n"
     ]
    }
   ],
   "source": [
    "# Define xgb classifier\n",
    "model_xgb = XGBClassifier(\n",
    "    n_estimators = 10,\n",
    "    max_depth = 3,\n",
    "    device = 'cpu',\n",
    "    verbosity = 2,\n",
    "    eval_metric = 'logloss', \n",
    "    colsample_bytree = 0.7,\n",
    "    enable_categorical = True,\n",
    "    random_state=42\n",
    ")\n",
    "\n",
    "model_xgb.fit(X_train_xgb, y_train)\n",
    "\n",
    "# Make predictions and calculate metrics\n",
    "results_xgb_train = predict_and_metrics(model_xgb, X_train_xgb, y_train, 'Train')\n",
    "results_xgb_val = predict_and_metrics(model_xgb, X_val_xgb, y_val, 'Validation');"
   ]
  },
  {
   "cell_type": "code",
   "execution_count": 87,
   "id": "1aa47dc9-1816-479f-9b2c-a9e1a13e7957",
   "metadata": {},
   "outputs": [
    {
     "data": {
      "text/html": [
       "<div>\n",
       "<style scoped>\n",
       "    .dataframe tbody tr th:only-of-type {\n",
       "        vertical-align: middle;\n",
       "    }\n",
       "\n",
       "    .dataframe tbody tr th {\n",
       "        vertical-align: top;\n",
       "    }\n",
       "\n",
       "    .dataframe thead th {\n",
       "        text-align: right;\n",
       "    }\n",
       "</style>\n",
       "<table border=\"1\" class=\"dataframe\">\n",
       "  <thead>\n",
       "    <tr style=\"text-align: right;\">\n",
       "      <th></th>\n",
       "      <th>model</th>\n",
       "      <th>auroc</th>\n",
       "      <th>precision</th>\n",
       "      <th>recall</th>\n",
       "      <th>f1</th>\n",
       "    </tr>\n",
       "  </thead>\n",
       "  <tbody>\n",
       "    <tr>\n",
       "      <th>1</th>\n",
       "      <td>LogisticRegression</td>\n",
       "      <td>0.872397</td>\n",
       "      <td>0.746154</td>\n",
       "      <td>0.460872</td>\n",
       "      <td>0.569800</td>\n",
       "    </tr>\n",
       "    <tr>\n",
       "      <th>2</th>\n",
       "      <td>LogisticRegression+Threshold</td>\n",
       "      <td>0.872397</td>\n",
       "      <td>0.565961</td>\n",
       "      <td>0.702627</td>\n",
       "      <td>0.626933</td>\n",
       "    </tr>\n",
       "    <tr>\n",
       "      <th>3</th>\n",
       "      <td>RandomForest</td>\n",
       "      <td>0.837326</td>\n",
       "      <td>0.473164</td>\n",
       "      <td>0.721912</td>\n",
       "      <td>0.571650</td>\n",
       "    </tr>\n",
       "    <tr>\n",
       "      <th>4</th>\n",
       "      <td>RandomForest+ROS</td>\n",
       "      <td>0.842482</td>\n",
       "      <td>0.464961</td>\n",
       "      <td>0.741755</td>\n",
       "      <td>0.571613</td>\n",
       "    </tr>\n",
       "    <tr>\n",
       "      <th>5</th>\n",
       "      <td>RandomForest+GridSearchCV</td>\n",
       "      <td>0.844412</td>\n",
       "      <td>0.478126</td>\n",
       "      <td>0.730017</td>\n",
       "      <td>0.577812</td>\n",
       "    </tr>\n",
       "    <tr>\n",
       "      <th>6</th>\n",
       "      <td>XGBoost</td>\n",
       "      <td>0.865837</td>\n",
       "      <td>0.763756</td>\n",
       "      <td>0.422862</td>\n",
       "      <td>0.544343</td>\n",
       "    </tr>\n",
       "  </tbody>\n",
       "</table>\n",
       "</div>"
      ],
      "text/plain": [
       "                          model     auroc  precision    recall        f1\n",
       "1            LogisticRegression  0.872397   0.746154  0.460872  0.569800\n",
       "2  LogisticRegression+Threshold  0.872397   0.565961  0.702627  0.626933\n",
       "3                  RandomForest  0.837326   0.473164  0.721912  0.571650\n",
       "4              RandomForest+ROS  0.842482   0.464961  0.741755  0.571613\n",
       "5     RandomForest+GridSearchCV  0.844412   0.478126  0.730017  0.577812\n",
       "6                       XGBoost  0.865837   0.763756  0.422862  0.544343"
      ]
     },
     "execution_count": 87,
     "metadata": {},
     "output_type": "execute_result"
    }
   ],
   "source": [
    "# Write results to dataframe for future model comparison\n",
    "update_results(results, results_xgb_val, 'XGBoost')"
   ]
  },
  {
   "cell_type": "markdown",
   "id": "a43f1344-14cd-4984-b6f0-589fb59d006b",
   "metadata": {},
   "source": [
    "Hyperparameter tuning:"
   ]
  },
  {
   "cell_type": "code",
   "execution_count": 88,
   "id": "9e1722f9-9b5a-49f3-bfbc-c605ab96b640",
   "metadata": {},
   "outputs": [
    {
     "name": "stdout",
     "output_type": "stream",
     "text": [
      "100%|███████| 20/20 [01:01<00:00,  3.07s/trial, best loss: -0.6277833167165171]\n"
     ]
    }
   ],
   "source": [
    "# Define objective function\n",
    "def objective(params):\n",
    "    clf = XGBClassifier(\n",
    "        n_estimators=int(params['n_estimators']),\n",
    "        learning_rate=params['learning_rate'],\n",
    "        max_depth=int(params['max_depth']),\n",
    "        min_child_weight=params['min_child_weight'],  # Мінімальна сума ваг всіх вибірок, необхідна в кінцевому вузлі\n",
    "        subsample=params['subsample'],  # Частка вибірок, що використовуються для побудови кожного дерева\n",
    "        colsample_bytree=params['colsample_bytree'],  # Частка ознак, що використовуються при побудові кожного дерева\n",
    "        gamma=params['gamma'],  # Мінімальне зменшення втрат, необхідне для виконання поділу\n",
    "        reg_alpha=params['reg_alpha'],  # Параметр регуляризації L1 (Lasso)\n",
    "        reg_lambda=params['reg_lambda'],  # Параметр регуляризації L2 (Ridge)\n",
    "        enable_categorical=True,\n",
    "        missing=np.nan,\n",
    "        device='cpu',\n",
    "        early_stopping_rounds=10,\n",
    "        random_state=42\n",
    "    )\n",
    "\n",
    "    clf.fit(\n",
    "        X_train_xgb,\n",
    "        y_train,\n",
    "        eval_set=[(X_val_xgb, y_val)],\n",
    "        verbose=False)\n",
    "    pred = clf.predict(X_val_xgb)\n",
    "    proba = clf.predict_proba(X_val_xgb)[:,1]\n",
    "    f1 = f1_score(y_val, pred)\n",
    "    #auc = roc_auc_score(y_val, proba)\n",
    "\n",
    "    return {'loss': -f1, 'status': STATUS_OK}\n",
    "\n",
    "space = {\n",
    "    'n_estimators': hp.quniform('n_estimators', 100, 400, 25),\n",
    "    'learning_rate': hp.uniform('learning_rate', 0.01, 0.1),\n",
    "    'max_depth': hp.quniform('max_depth', 3, 10, 1),\n",
    "    'min_child_weight': hp.quniform('min_child_weight', 1, 10, 1),\n",
    "    'subsample': hp.uniform('subsample', 0.5, 1.0),\n",
    "    'colsample_bytree': hp.uniform('colsample_bytree', 0.8, 1.0),\n",
    "    'gamma': hp.uniform('gamma', 0.5, 1),\n",
    "    'reg_alpha': hp.uniform('reg_alpha', 0.8, 1),\n",
    "    'reg_lambda': hp.uniform('reg_lambda', 0.8, 1)\n",
    "}\n",
    "\n",
    "trials = Trials()\n",
    "best = fmin(fn=objective, space=space, algo=tpe.suggest, max_evals=20, trials=trials)"
   ]
  },
  {
   "cell_type": "code",
   "execution_count": 89,
   "id": "0ae22eec-615b-4672-b1b4-b0d3dd24f075",
   "metadata": {},
   "outputs": [
    {
     "data": {
      "text/plain": [
       "{'colsample_bytree': np.float64(0.9654050850067806),\n",
       " 'gamma': np.float64(0.6723808575580941),\n",
       " 'learning_rate': np.float64(0.03325066215280847),\n",
       " 'max_depth': 10,\n",
       " 'min_child_weight': 4,\n",
       " 'n_estimators': 250,\n",
       " 'reg_alpha': np.float64(0.8127925534115487),\n",
       " 'reg_lambda': np.float64(0.9603114388206491),\n",
       " 'subsample': np.float64(0.6505202669084695)}"
      ]
     },
     "execution_count": 89,
     "metadata": {},
     "output_type": "execute_result"
    }
   ],
   "source": [
    "best['n_estimators'] = int(best['n_estimators'])\n",
    "best['max_depth'] = int(best['max_depth'])\n",
    "best['min_child_weight'] = int(best['min_child_weight'])\n",
    "model_ho = XGBClassifier(**best, enable_categorical=True, missing=np.nan, device='cpu')\n",
    "best"
   ]
  },
  {
   "cell_type": "code",
   "execution_count": 90,
   "id": "8907872a-5ae7-4839-8410-2c706cee967e",
   "metadata": {},
   "outputs": [
    {
     "name": "stdout",
     "output_type": "stream",
     "text": [
      "-------------------------------------\n",
      " XGBClassifier\n",
      "-------------------------------------\n",
      "Classification report for Train set\n",
      "              precision    recall  f1-score   support\n",
      "\n",
      "           0     0.9349    0.9841    0.9589     76190\n",
      "           1     0.9319    0.7606    0.8376     21798\n",
      "\n",
      "    accuracy                         0.9344     97988\n",
      "   macro avg     0.9334    0.8723    0.8982     97988\n",
      "weighted avg     0.9342    0.9344    0.9319     97988\n",
      "\n",
      "AUROC for Train set: 0.978250\n",
      "-------------------------------------\n",
      "Classification report for Validation set\n",
      "              precision    recall  f1-score   support\n",
      "\n",
      "           0     0.8835    0.9594    0.9198     13511\n",
      "           1     0.7729    0.5221    0.6232      3578\n",
      "\n",
      "    accuracy                         0.8678     17089\n",
      "   macro avg     0.8282    0.7407    0.7715     17089\n",
      "weighted avg     0.8603    0.8678    0.8577     17089\n",
      "\n",
      "AUROC for Validation set: 0.898868\n"
     ]
    }
   ],
   "source": [
    "model_ho.fit(X_train_xgb, y_train)\n",
    "\n",
    "# Make predictions and calculate metrics\n",
    "results_ho_train = predict_and_metrics(model_ho, X_train_xgb, y_train, 'Train')\n",
    "results_ho_val = predict_and_metrics(model_ho, X_val_xgb, y_val, 'Validation');"
   ]
  },
  {
   "cell_type": "code",
   "execution_count": 91,
   "id": "e09b50ef-7f71-4fe2-beb9-193f88c62bfb",
   "metadata": {},
   "outputs": [
    {
     "data": {
      "text/html": [
       "<div>\n",
       "<style scoped>\n",
       "    .dataframe tbody tr th:only-of-type {\n",
       "        vertical-align: middle;\n",
       "    }\n",
       "\n",
       "    .dataframe tbody tr th {\n",
       "        vertical-align: top;\n",
       "    }\n",
       "\n",
       "    .dataframe thead th {\n",
       "        text-align: right;\n",
       "    }\n",
       "</style>\n",
       "<table border=\"1\" class=\"dataframe\">\n",
       "  <thead>\n",
       "    <tr style=\"text-align: right;\">\n",
       "      <th></th>\n",
       "      <th>model</th>\n",
       "      <th>auroc</th>\n",
       "      <th>precision</th>\n",
       "      <th>recall</th>\n",
       "      <th>f1</th>\n",
       "    </tr>\n",
       "  </thead>\n",
       "  <tbody>\n",
       "    <tr>\n",
       "      <th>1</th>\n",
       "      <td>LogisticRegression</td>\n",
       "      <td>0.872397</td>\n",
       "      <td>0.746154</td>\n",
       "      <td>0.460872</td>\n",
       "      <td>0.569800</td>\n",
       "    </tr>\n",
       "    <tr>\n",
       "      <th>2</th>\n",
       "      <td>LogisticRegression+Threshold</td>\n",
       "      <td>0.872397</td>\n",
       "      <td>0.565961</td>\n",
       "      <td>0.702627</td>\n",
       "      <td>0.626933</td>\n",
       "    </tr>\n",
       "    <tr>\n",
       "      <th>3</th>\n",
       "      <td>RandomForest</td>\n",
       "      <td>0.837326</td>\n",
       "      <td>0.473164</td>\n",
       "      <td>0.721912</td>\n",
       "      <td>0.571650</td>\n",
       "    </tr>\n",
       "    <tr>\n",
       "      <th>4</th>\n",
       "      <td>RandomForest+ROS</td>\n",
       "      <td>0.842482</td>\n",
       "      <td>0.464961</td>\n",
       "      <td>0.741755</td>\n",
       "      <td>0.571613</td>\n",
       "    </tr>\n",
       "    <tr>\n",
       "      <th>5</th>\n",
       "      <td>RandomForest+GridSearchCV</td>\n",
       "      <td>0.844412</td>\n",
       "      <td>0.478126</td>\n",
       "      <td>0.730017</td>\n",
       "      <td>0.577812</td>\n",
       "    </tr>\n",
       "    <tr>\n",
       "      <th>6</th>\n",
       "      <td>XGBoost</td>\n",
       "      <td>0.865837</td>\n",
       "      <td>0.763756</td>\n",
       "      <td>0.422862</td>\n",
       "      <td>0.544343</td>\n",
       "    </tr>\n",
       "    <tr>\n",
       "      <th>7</th>\n",
       "      <td>XGBoost+Hyperopt</td>\n",
       "      <td>0.898868</td>\n",
       "      <td>0.772859</td>\n",
       "      <td>0.522079</td>\n",
       "      <td>0.623186</td>\n",
       "    </tr>\n",
       "  </tbody>\n",
       "</table>\n",
       "</div>"
      ],
      "text/plain": [
       "                          model     auroc  precision    recall        f1\n",
       "1            LogisticRegression  0.872397   0.746154  0.460872  0.569800\n",
       "2  LogisticRegression+Threshold  0.872397   0.565961  0.702627  0.626933\n",
       "3                  RandomForest  0.837326   0.473164  0.721912  0.571650\n",
       "4              RandomForest+ROS  0.842482   0.464961  0.741755  0.571613\n",
       "5     RandomForest+GridSearchCV  0.844412   0.478126  0.730017  0.577812\n",
       "6                       XGBoost  0.865837   0.763756  0.422862  0.544343\n",
       "7              XGBoost+Hyperopt  0.898868   0.772859  0.522079  0.623186"
      ]
     },
     "execution_count": 91,
     "metadata": {},
     "output_type": "execute_result"
    }
   ],
   "source": [
    "# Write results to dataframe for future model comparison\n",
    "update_results(results, results_ho_val, 'XGBoost+Hyperopt')"
   ]
  },
  {
   "cell_type": "markdown",
   "id": "32cee8cc-b76f-4640-b2f8-3eb429a58782",
   "metadata": {},
   "source": [
    "Now we'll experimentally adjust the threshold to improve the detection of the minority class and balance **F1** and **recall** scores."
   ]
  },
  {
   "cell_type": "code",
   "execution_count": 92,
   "id": "fb561dc9-7d17-44a7-83fa-f67292b43a55",
   "metadata": {},
   "outputs": [
    {
     "name": "stdout",
     "output_type": "stream",
     "text": [
      "-------------------------------------\n",
      "Classification report for Validation set\n",
      "              precision    recall  f1-score   support\n",
      "\n",
      "           0     0.9346    0.8395    0.8845     13511\n",
      "           1     0.5621    0.7781    0.6527      3578\n",
      "\n",
      "    accuracy                         0.8266     17089\n",
      "   macro avg     0.7483    0.8088    0.7686     17089\n",
      "weighted avg     0.8566    0.8266    0.8359     17089\n",
      "\n"
     ]
    }
   ],
   "source": [
    "threshold = 0.2\n",
    "pred_ho_val2 = [1 if (x>threshold) else 0 for x in results_ho_val['proba']]\n",
    "results_ho_val['precision'] = precision_score(y_val, pred_ho_val2)\n",
    "results_ho_val['recall'] = recall_score (y_val, pred_ho_val2)\n",
    "results_ho_val['f1'] = f1_score(y_val, pred_ho_val2)\n",
    "print (f'-------------------------------------\\nClassification report for Validation set')\n",
    "print(classification_report(y_val, pred_ho_val2, digits=4))"
   ]
  },
  {
   "cell_type": "code",
   "execution_count": 93,
   "id": "cf8c8842-d90a-4910-bc02-f490bb83721f",
   "metadata": {},
   "outputs": [
    {
     "data": {
      "text/html": [
       "<div>\n",
       "<style scoped>\n",
       "    .dataframe tbody tr th:only-of-type {\n",
       "        vertical-align: middle;\n",
       "    }\n",
       "\n",
       "    .dataframe tbody tr th {\n",
       "        vertical-align: top;\n",
       "    }\n",
       "\n",
       "    .dataframe thead th {\n",
       "        text-align: right;\n",
       "    }\n",
       "</style>\n",
       "<table border=\"1\" class=\"dataframe\">\n",
       "  <thead>\n",
       "    <tr style=\"text-align: right;\">\n",
       "      <th></th>\n",
       "      <th>model</th>\n",
       "      <th>auroc</th>\n",
       "      <th>precision</th>\n",
       "      <th>recall</th>\n",
       "      <th>f1</th>\n",
       "    </tr>\n",
       "  </thead>\n",
       "  <tbody>\n",
       "    <tr>\n",
       "      <th>1</th>\n",
       "      <td>LogisticRegression</td>\n",
       "      <td>0.872397</td>\n",
       "      <td>0.746154</td>\n",
       "      <td>0.460872</td>\n",
       "      <td>0.569800</td>\n",
       "    </tr>\n",
       "    <tr>\n",
       "      <th>2</th>\n",
       "      <td>LogisticRegression+Threshold</td>\n",
       "      <td>0.872397</td>\n",
       "      <td>0.565961</td>\n",
       "      <td>0.702627</td>\n",
       "      <td>0.626933</td>\n",
       "    </tr>\n",
       "    <tr>\n",
       "      <th>3</th>\n",
       "      <td>RandomForest</td>\n",
       "      <td>0.837326</td>\n",
       "      <td>0.473164</td>\n",
       "      <td>0.721912</td>\n",
       "      <td>0.571650</td>\n",
       "    </tr>\n",
       "    <tr>\n",
       "      <th>4</th>\n",
       "      <td>RandomForest+ROS</td>\n",
       "      <td>0.842482</td>\n",
       "      <td>0.464961</td>\n",
       "      <td>0.741755</td>\n",
       "      <td>0.571613</td>\n",
       "    </tr>\n",
       "    <tr>\n",
       "      <th>5</th>\n",
       "      <td>RandomForest+GridSearchCV</td>\n",
       "      <td>0.844412</td>\n",
       "      <td>0.478126</td>\n",
       "      <td>0.730017</td>\n",
       "      <td>0.577812</td>\n",
       "    </tr>\n",
       "    <tr>\n",
       "      <th>6</th>\n",
       "      <td>XGBoost</td>\n",
       "      <td>0.865837</td>\n",
       "      <td>0.763756</td>\n",
       "      <td>0.422862</td>\n",
       "      <td>0.544343</td>\n",
       "    </tr>\n",
       "    <tr>\n",
       "      <th>7</th>\n",
       "      <td>XGBoost+Hyperopt</td>\n",
       "      <td>0.898868</td>\n",
       "      <td>0.772859</td>\n",
       "      <td>0.522079</td>\n",
       "      <td>0.623186</td>\n",
       "    </tr>\n",
       "    <tr>\n",
       "      <th>8</th>\n",
       "      <td>XGBoost+Hyperopt+Threshold</td>\n",
       "      <td>0.898868</td>\n",
       "      <td>0.562084</td>\n",
       "      <td>0.778088</td>\n",
       "      <td>0.652678</td>\n",
       "    </tr>\n",
       "  </tbody>\n",
       "</table>\n",
       "</div>"
      ],
      "text/plain": [
       "                          model     auroc  precision    recall        f1\n",
       "1            LogisticRegression  0.872397   0.746154  0.460872  0.569800\n",
       "2  LogisticRegression+Threshold  0.872397   0.565961  0.702627  0.626933\n",
       "3                  RandomForest  0.837326   0.473164  0.721912  0.571650\n",
       "4              RandomForest+ROS  0.842482   0.464961  0.741755  0.571613\n",
       "5     RandomForest+GridSearchCV  0.844412   0.478126  0.730017  0.577812\n",
       "6                       XGBoost  0.865837   0.763756  0.422862  0.544343\n",
       "7              XGBoost+Hyperopt  0.898868   0.772859  0.522079  0.623186\n",
       "8    XGBoost+Hyperopt+Threshold  0.898868   0.562084  0.778088  0.652678"
      ]
     },
     "execution_count": 93,
     "metadata": {},
     "output_type": "execute_result"
    }
   ],
   "source": [
    "# Write results to dataframe for future model comparison\n",
    "update_results(results, results_ho_val, 'XGBoost+Hyperopt+Threshold')"
   ]
  },
  {
   "cell_type": "markdown",
   "id": "e3d77247-8edc-4c74-a429-97fac75f3449",
   "metadata": {},
   "source": [
    "### Conclusions\n",
    "\n",
    "The model `XGBoost` with `Hyperopt` optimization and threshold adjustment demonstrated notable improvements over `baseline` (`LogisticRegression`). `AUROC` increased from `0.872397` to `0.898868`, showing a better ability to distinguish between classes. `Recall` improved significantly from `0.460872` to `0.778088`, indicating a much better performance in identifying the minority class. Additionally, the `F1-score` rose from `0.569800` to `0.652678`, reflecting a more balanced performance between precision and recall. \n",
    "\n",
    "These results suggest that the use of `XGBoost` with `Hyperopt` optimization and threshold adjustment significantly enhanced the model's ability to correctly classify the minority class while maintaining a good overall performance."
   ]
  },
  {
   "cell_type": "code",
   "execution_count": 94,
   "id": "05bd2d24-03db-43e2-931e-cbd868755141",
   "metadata": {},
   "outputs": [
    {
     "data": {
      "text/plain": [
       "['models/trained_model.joblib']"
      ]
     },
     "execution_count": 94,
     "metadata": {},
     "output_type": "execute_result"
    }
   ],
   "source": [
    "# Save model with new trained estimator\n",
    "trained_model = {\n",
    "    'model': model_ho,\n",
    "    'num_imputer': model_comp['num_imputer'],\n",
    "    'cat_imputer': model_comp['cat_imputer'],\n",
    "    'scaler': model_comp['scaler'],\n",
    "    'encoder': model_comp['encoder'],\n",
    "    'input_cols': model_comp['input_cols'],\n",
    "    'target_col': model_comp['target_col'],\n",
    "    'numeric_cols': model_comp['numeric_cols'],\n",
    "    'categorical_cols': model_comp['categorical_cols'],\n",
    "    'encoded_cols': model_comp['encoded_cols']\n",
    "}\n",
    "joblib.dump(trained_model, \"models/trained_model.joblib\")"
   ]
  }
 ],
 "metadata": {
  "kernelspec": {
   "display_name": "streamlitenv",
   "language": "python",
   "name": "streamlitenv"
  },
  "language_info": {
   "codemirror_mode": {
    "name": "ipython",
    "version": 3
   },
   "file_extension": ".py",
   "mimetype": "text/x-python",
   "name": "python",
   "nbconvert_exporter": "python",
   "pygments_lexer": "ipython3",
   "version": "3.12.7"
  }
 },
 "nbformat": 4,
 "nbformat_minor": 5
}
